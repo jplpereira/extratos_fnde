{
 "cells": [
  {
   "cell_type": "markdown",
   "metadata": {},
   "source": [
    "# Extração de contas dos programas do FNDE"
   ]
  },
  {
   "cell_type": "markdown",
   "metadata": {},
   "source": [
    "Importando os pacotes necessários"
   ]
  },
  {
   "cell_type": "code",
   "execution_count": 85,
   "metadata": {
    "collapsed": true
   },
   "outputs": [],
   "source": [
    "import urllib.request"
   ]
  },
  {
   "cell_type": "code",
   "execution_count": 86,
   "metadata": {
    "collapsed": true
   },
   "outputs": [],
   "source": [
    "import re"
   ]
  },
  {
   "cell_type": "code",
   "execution_count": 87,
   "metadata": {
    "collapsed": true
   },
   "outputs": [],
   "source": [
    "import pandas as pd"
   ]
  },
  {
   "cell_type": "code",
   "execution_count": 88,
   "metadata": {
    "collapsed": true
   },
   "outputs": [],
   "source": [
    "import ssl"
   ]
  },
  {
   "cell_type": "markdown",
   "metadata": {},
   "source": [
    "Desabilitando a verificação do contexto"
   ]
  },
  {
   "cell_type": "code",
   "execution_count": 89,
   "metadata": {
    "collapsed": true
   },
   "outputs": [],
   "source": [
    "context = ssl._create_unverified_context()"
   ]
  },
  {
   "cell_type": "markdown",
   "metadata": {},
   "source": [
    "Criando a lista para armazenar os anos da pesquisa"
   ]
  },
  {
   "cell_type": "code",
   "execution_count": 90,
   "metadata": {
    "collapsed": true
   },
   "outputs": [],
   "source": [
    "anos = []"
   ]
  },
  {
   "cell_type": "markdown",
   "metadata": {},
   "source": [
    "Definindo o ano inicial da pesquisa"
   ]
  },
  {
   "cell_type": "code",
   "execution_count": 91,
   "metadata": {
    "collapsed": true
   },
   "outputs": [],
   "source": [
    "primeiro_ano = 2011"
   ]
  },
  {
   "cell_type": "markdown",
   "metadata": {},
   "source": [
    "Definindo o ano final da pesquisa"
   ]
  },
  {
   "cell_type": "code",
   "execution_count": 92,
   "metadata": {
    "collapsed": true
   },
   "outputs": [],
   "source": [
    "ultimo_ano = 2018"
   ]
  },
  {
   "cell_type": "markdown",
   "metadata": {},
   "source": [
    "Carregando a lista com os anos a serem pesquisados"
   ]
  },
  {
   "cell_type": "code",
   "execution_count": 93,
   "metadata": {
    "collapsed": true
   },
   "outputs": [],
   "source": [
    "for ano in range(primeiro_ano, ultimo_ano + 1):\n",
    "    anos.append(ano)"
   ]
  },
  {
   "cell_type": "markdown",
   "metadata": {},
   "source": [
    "Importando o banco de dados com os códigos e os nomes dos programas a serem pesquisados"
   ]
  },
  {
   "cell_type": "code",
   "execution_count": 94,
   "metadata": {
    "collapsed": true
   },
   "outputs": [],
   "source": [
    "lista_programas = pd.read_excel('programas.xlsx')"
   ]
  },
  {
   "cell_type": "code",
   "execution_count": 95,
   "metadata": {},
   "outputs": [
    {
     "data": {
      "text/html": [
       "<div>\n",
       "<style>\n",
       "    .dataframe thead tr:only-child th {\n",
       "        text-align: right;\n",
       "    }\n",
       "\n",
       "    .dataframe thead th {\n",
       "        text-align: left;\n",
       "    }\n",
       "\n",
       "    .dataframe tbody tr th {\n",
       "        vertical-align: top;\n",
       "    }\n",
       "</style>\n",
       "<table border=\"1\" class=\"dataframe\">\n",
       "  <thead>\n",
       "    <tr style=\"text-align: right;\">\n",
       "      <th></th>\n",
       "      <th>Código</th>\n",
       "      <th>Programa</th>\n",
       "    </tr>\n",
       "  </thead>\n",
       "  <tbody>\n",
       "    <tr>\n",
       "      <th>0</th>\n",
       "      <td>23</td>\n",
       "      <td>ACELERACAO (PROJETO DE ACELERACAO DA APRENDIZA...</td>\n",
       "    </tr>\n",
       "    <tr>\n",
       "      <th>1</th>\n",
       "      <td>C7</td>\n",
       "      <td>ALIMENTAÇÃO ESCOLAR (PROG.NACIONAL DE ALIMENTA...</td>\n",
       "    </tr>\n",
       "    <tr>\n",
       "      <th>2</th>\n",
       "      <td>52</td>\n",
       "      <td>BRASIL ALFABETIZADO (PROGRAMA PARA ALFABETIZAÇ...</td>\n",
       "    </tr>\n",
       "    <tr>\n",
       "      <th>3</th>\n",
       "      <td>0C</td>\n",
       "      <td>BRASIL CARINHOSO TD (BRASIL CARINHOSO - TRANSF...</td>\n",
       "    </tr>\n",
       "    <tr>\n",
       "      <th>4</th>\n",
       "      <td>48</td>\n",
       "      <td>COMPROMISSO TODOS PELA EDUCAÇÃO-PAR/CTE (COMPR...</td>\n",
       "    </tr>\n",
       "    <tr>\n",
       "      <th>5</th>\n",
       "      <td>50</td>\n",
       "      <td>CONDIGITAIS (PROGR. DE PROD. DE CONTEÚDOS EDUC...</td>\n",
       "    </tr>\n",
       "    <tr>\n",
       "      <th>6</th>\n",
       "      <td>TA</td>\n",
       "      <td>EDUCAÇÃO INFANTIL - APOIO SUPLEMENTAR (MANUTEN...</td>\n",
       "    </tr>\n",
       "    <tr>\n",
       "      <th>7</th>\n",
       "      <td>CV</td>\n",
       "      <td>EDUCAÇÃO INFANTIL - NOVAS TURMAS (EI - NOVAS T...</td>\n",
       "    </tr>\n",
       "    <tr>\n",
       "      <th>8</th>\n",
       "      <td>CT</td>\n",
       "      <td>EDUCAÇÃO INFANTIL - NOVOS ESTABELECIMENTOS (EI...</td>\n",
       "    </tr>\n",
       "    <tr>\n",
       "      <th>9</th>\n",
       "      <td>40</td>\n",
       "      <td>EJA (PROG APOIO ESTADOS/MUN P/ EDUCAÇÃO FUNDAM...</td>\n",
       "    </tr>\n",
       "    <tr>\n",
       "      <th>10</th>\n",
       "      <td>TI</td>\n",
       "      <td>FOMENTO A ESCOLAS EM TEMPO INTEGRAL (TRANSF DI...</td>\n",
       "    </tr>\n",
       "    <tr>\n",
       "      <th>11</th>\n",
       "      <td>20</td>\n",
       "      <td>FUNDAMENTAL (PROJETO DE ENSINO FUNDAMENTAL)</td>\n",
       "    </tr>\n",
       "    <tr>\n",
       "      <th>12</th>\n",
       "      <td>86</td>\n",
       "      <td>FUNDEB ( FUNDEB)</td>\n",
       "    </tr>\n",
       "    <tr>\n",
       "      <th>13</th>\n",
       "      <td>17</td>\n",
       "      <td>FUNDEF (COMPLEMENTAÇÃO DO FUNDEF)</td>\n",
       "    </tr>\n",
       "    <tr>\n",
       "      <th>14</th>\n",
       "      <td>26</td>\n",
       "      <td>FUNDESCOLA (PROJETO DO FUNDO DE FORTALECIMENTO...</td>\n",
       "    </tr>\n",
       "    <tr>\n",
       "      <th>15</th>\n",
       "      <td>22</td>\n",
       "      <td>JOVENS E ADULTOS (PROJETO DE EDUCACAO DE JOVEN...</td>\n",
       "    </tr>\n",
       "    <tr>\n",
       "      <th>16</th>\n",
       "      <td>BW</td>\n",
       "      <td>PAC II -  PROINFÂNCIA (PROGRAMA PROINFÂNCIA - ...</td>\n",
       "    </tr>\n",
       "    <tr>\n",
       "      <th>17</th>\n",
       "      <td>CN</td>\n",
       "      <td>PAC II - QUADRAS (PROGRAMA DE CONSTRUÇÃO DE QU...</td>\n",
       "    </tr>\n",
       "    <tr>\n",
       "      <th>18</th>\n",
       "      <td>56</td>\n",
       "      <td>PAED (PROGRAMA COMPL EDUC ESPEC PESSOAS PORT D...</td>\n",
       "    </tr>\n",
       "    <tr>\n",
       "      <th>19</th>\n",
       "      <td>CM</td>\n",
       "      <td>PAR - TD (PLANO DE AÇÃO ARTICULADA  - TRANSFER...</td>\n",
       "    </tr>\n",
       "    <tr>\n",
       "      <th>20</th>\n",
       "      <td>02</td>\n",
       "      <td>PDDE (PROGRAMA DINHEIRO DIRETO NA ESCOLA )</td>\n",
       "    </tr>\n",
       "    <tr>\n",
       "      <th>21</th>\n",
       "      <td>0A</td>\n",
       "      <td>PDDE ESTRUTURA (ÁGUA E ESGOTAMENTO SANITÁRIO, ...</td>\n",
       "    </tr>\n",
       "    <tr>\n",
       "      <th>22</th>\n",
       "      <td>0B</td>\n",
       "      <td>PDDE QUALIDADE ( ENSINO MÉDIO INOVADOR, MAIS C...</td>\n",
       "    </tr>\n",
       "    <tr>\n",
       "      <th>23</th>\n",
       "      <td>A3</td>\n",
       "      <td>PDDE-EDUCAÇÃO ESPECIAL (PROGRAMA DINHEIRO DIRE...</td>\n",
       "    </tr>\n",
       "    <tr>\n",
       "      <th>24</th>\n",
       "      <td>Z9</td>\n",
       "      <td>PDDE-EDUCAÇÃO INTEGRAL (PROGRAMA DINHEIRO DIRE...</td>\n",
       "    </tr>\n",
       "    <tr>\n",
       "      <th>25</th>\n",
       "      <td>85</td>\n",
       "      <td>PDDE/FEFS (PROGRAMA DINHEIRO DIRETO NA ESCOLA ...</td>\n",
       "    </tr>\n",
       "    <tr>\n",
       "      <th>26</th>\n",
       "      <td>96</td>\n",
       "      <td>PDDE/PDE-ESCOLA (PROGRAMA DINHEIRO DIRETO NA E...</td>\n",
       "    </tr>\n",
       "    <tr>\n",
       "      <th>27</th>\n",
       "      <td>71</td>\n",
       "      <td>PDDE/PME (PROGRAMA DINHEIRO DIRETO NA ESCOLA -...</td>\n",
       "    </tr>\n",
       "    <tr>\n",
       "      <th>28</th>\n",
       "      <td>15</td>\n",
       "      <td>PDDEE (PROGRAMA DINHEIRO DIRETO ESCOLA SIT. EM...</td>\n",
       "    </tr>\n",
       "    <tr>\n",
       "      <th>29</th>\n",
       "      <td>72</td>\n",
       "      <td>PDDEF/PAPE (PROGRAMA DINHEIRO DIRETO NA ESCOLA...</td>\n",
       "    </tr>\n",
       "    <tr>\n",
       "      <th>...</th>\n",
       "      <td>...</td>\n",
       "      <td>...</td>\n",
       "    </tr>\n",
       "    <tr>\n",
       "      <th>40</th>\n",
       "      <td>06</td>\n",
       "      <td>PNSE (PROGRAMA NACIONAL DE SAUDE DO ESCOLAR)</td>\n",
       "    </tr>\n",
       "    <tr>\n",
       "      <th>41</th>\n",
       "      <td>07</td>\n",
       "      <td>PNTE (PROGRAMA NACIONAL DE TRANSPORTE DO ESCOLAR)</td>\n",
       "    </tr>\n",
       "    <tr>\n",
       "      <th>42</th>\n",
       "      <td>19</td>\n",
       "      <td>PRE-ESCOLAR (PROJETO DE EDUCACAO PRE-ESCOLAR)</td>\n",
       "    </tr>\n",
       "    <tr>\n",
       "      <th>43</th>\n",
       "      <td>ED</td>\n",
       "      <td>PROGRAMA TERRITÓRIOS DA CIDADANIA TD (PROGRAMA...</td>\n",
       "    </tr>\n",
       "    <tr>\n",
       "      <th>44</th>\n",
       "      <td>98</td>\n",
       "      <td>PROINFANCIA (PROINFANCIA)</td>\n",
       "    </tr>\n",
       "    <tr>\n",
       "      <th>45</th>\n",
       "      <td>79</td>\n",
       "      <td>PROLICENCIATURA (PROJETO DO PRO LICENCIATURA -...</td>\n",
       "    </tr>\n",
       "    <tr>\n",
       "      <th>46</th>\n",
       "      <td>EF</td>\n",
       "      <td>PRONATEC - TD (PRONATEC - TD)</td>\n",
       "    </tr>\n",
       "    <tr>\n",
       "      <th>47</th>\n",
       "      <td>CJ</td>\n",
       "      <td>PRONATEC MANTENEDORAS (PRONATEC - BOLSA CURSO ...</td>\n",
       "    </tr>\n",
       "    <tr>\n",
       "      <th>48</th>\n",
       "      <td>MC</td>\n",
       "      <td>PRONATEC MANTENEDORAS - CONCOMITANTE (PAGAMENT...</td>\n",
       "    </tr>\n",
       "    <tr>\n",
       "      <th>49</th>\n",
       "      <td>PM</td>\n",
       "      <td>PRONATEC MEDIOTEC (TRANSF DIRETA PARA AS REDES...</td>\n",
       "    </tr>\n",
       "    <tr>\n",
       "      <th>50</th>\n",
       "      <td>PI</td>\n",
       "      <td>PRONATEC PRISIONAL (PAGAMENTO DE BOLSA-FORMAÇÃ...</td>\n",
       "    </tr>\n",
       "    <tr>\n",
       "      <th>51</th>\n",
       "      <td>03</td>\n",
       "      <td>PTA (PROGRAMA DE TRABALHO ANUAL)</td>\n",
       "    </tr>\n",
       "    <tr>\n",
       "      <th>52</th>\n",
       "      <td>24</td>\n",
       "      <td>PTA/ESPECIAL (PROJETO DE EDUCACAO ESPECIAL)</td>\n",
       "    </tr>\n",
       "    <tr>\n",
       "      <th>53</th>\n",
       "      <td>I4</td>\n",
       "      <td>PTA/GUARDA-CHUVA (PTA - GUARDA-CHUVA)</td>\n",
       "    </tr>\n",
       "    <tr>\n",
       "      <th>54</th>\n",
       "      <td>55</td>\n",
       "      <td>PTA/INFANTIL (PROJETO PARA ATENDIMENTO À EDUCA...</td>\n",
       "    </tr>\n",
       "    <tr>\n",
       "      <th>55</th>\n",
       "      <td>27</td>\n",
       "      <td>PTA/OUTROS (OUTROS PROJETOS DE INTERESSE DO MEC)</td>\n",
       "    </tr>\n",
       "    <tr>\n",
       "      <th>56</th>\n",
       "      <td>I7</td>\n",
       "      <td>PTA/PROFISSIONAL (PTA PROFISSIONAL)</td>\n",
       "    </tr>\n",
       "    <tr>\n",
       "      <th>57</th>\n",
       "      <td>70</td>\n",
       "      <td>PTA/REESTFISICA (APOIO À REESTRUTURAÇÃO DA RED...</td>\n",
       "    </tr>\n",
       "    <tr>\n",
       "      <th>58</th>\n",
       "      <td>67</td>\n",
       "      <td>PTAAÇÕESEDUC (AÇÕES EDUCATIVAS COMPLEMENTARES)</td>\n",
       "    </tr>\n",
       "    <tr>\n",
       "      <th>59</th>\n",
       "      <td>83</td>\n",
       "      <td>PTAAMBIENTAL (EDUCAÇÃO AMBIENTAL)</td>\n",
       "    </tr>\n",
       "    <tr>\n",
       "      <th>60</th>\n",
       "      <td>69</td>\n",
       "      <td>PTAESCFABRICA (ESCOLA DE FÁBRICA)</td>\n",
       "    </tr>\n",
       "    <tr>\n",
       "      <th>61</th>\n",
       "      <td>61</td>\n",
       "      <td>PTAINOVEDUC (INOVAÇÕES EDUCACIONAIS)</td>\n",
       "    </tr>\n",
       "    <tr>\n",
       "      <th>62</th>\n",
       "      <td>36</td>\n",
       "      <td>PTAPECAMPO (PROGRAMA DE EDUCAÇÃO DO CAMPO)</td>\n",
       "    </tr>\n",
       "    <tr>\n",
       "      <th>63</th>\n",
       "      <td>64</td>\n",
       "      <td>PTAPROFAPOIO (PROFISSIONAIS DE APOIO)</td>\n",
       "    </tr>\n",
       "    <tr>\n",
       "      <th>64</th>\n",
       "      <td>Z8</td>\n",
       "      <td>REESTFÍSICA  INFANTIL -CONSTRUÇÃO PROINFÂNCIA ...</td>\n",
       "    </tr>\n",
       "    <tr>\n",
       "      <th>65</th>\n",
       "      <td>PZ</td>\n",
       "      <td>REESTFISICA - TD (PROG. ESP. DE RECUPERAÇÃO DA...</td>\n",
       "    </tr>\n",
       "    <tr>\n",
       "      <th>66</th>\n",
       "      <td>D6</td>\n",
       "      <td>REESTFÍSICA E.INFANTIL.CONSTRUÇÃO-PROINFÂNCIA ...</td>\n",
       "    </tr>\n",
       "    <tr>\n",
       "      <th>67</th>\n",
       "      <td>AH</td>\n",
       "      <td>TD - PROJOVEM - URBANO  (TD - PROJOVEM - URBANO )</td>\n",
       "    </tr>\n",
       "    <tr>\n",
       "      <th>68</th>\n",
       "      <td>AM</td>\n",
       "      <td>TD -PROJOVEM - CAMPO  (TD -PROJOVEM - CAMPO)</td>\n",
       "    </tr>\n",
       "    <tr>\n",
       "      <th>69</th>\n",
       "      <td>32</td>\n",
       "      <td>TRANSFERÊNCIA A ESTADO E MUNICIPIOS PBA  (TRAN...</td>\n",
       "    </tr>\n",
       "  </tbody>\n",
       "</table>\n",
       "<p>70 rows × 2 columns</p>\n",
       "</div>"
      ],
      "text/plain": [
       "   Código                                           Programa\n",
       "0      23  ACELERACAO (PROJETO DE ACELERACAO DA APRENDIZA...\n",
       "1      C7  ALIMENTAÇÃO ESCOLAR (PROG.NACIONAL DE ALIMENTA...\n",
       "2      52  BRASIL ALFABETIZADO (PROGRAMA PARA ALFABETIZAÇ...\n",
       "3      0C  BRASIL CARINHOSO TD (BRASIL CARINHOSO - TRANSF...\n",
       "4      48  COMPROMISSO TODOS PELA EDUCAÇÃO-PAR/CTE (COMPR...\n",
       "5      50  CONDIGITAIS (PROGR. DE PROD. DE CONTEÚDOS EDUC...\n",
       "6      TA  EDUCAÇÃO INFANTIL - APOIO SUPLEMENTAR (MANUTEN...\n",
       "7      CV  EDUCAÇÃO INFANTIL - NOVAS TURMAS (EI - NOVAS T...\n",
       "8      CT  EDUCAÇÃO INFANTIL - NOVOS ESTABELECIMENTOS (EI...\n",
       "9      40  EJA (PROG APOIO ESTADOS/MUN P/ EDUCAÇÃO FUNDAM...\n",
       "10     TI  FOMENTO A ESCOLAS EM TEMPO INTEGRAL (TRANSF DI...\n",
       "11     20        FUNDAMENTAL (PROJETO DE ENSINO FUNDAMENTAL)\n",
       "12     86                                   FUNDEB ( FUNDEB)\n",
       "13     17                  FUNDEF (COMPLEMENTAÇÃO DO FUNDEF)\n",
       "14     26  FUNDESCOLA (PROJETO DO FUNDO DE FORTALECIMENTO...\n",
       "15     22  JOVENS E ADULTOS (PROJETO DE EDUCACAO DE JOVEN...\n",
       "16     BW  PAC II -  PROINFÂNCIA (PROGRAMA PROINFÂNCIA - ...\n",
       "17     CN  PAC II - QUADRAS (PROGRAMA DE CONSTRUÇÃO DE QU...\n",
       "18     56  PAED (PROGRAMA COMPL EDUC ESPEC PESSOAS PORT D...\n",
       "19     CM  PAR - TD (PLANO DE AÇÃO ARTICULADA  - TRANSFER...\n",
       "20     02         PDDE (PROGRAMA DINHEIRO DIRETO NA ESCOLA )\n",
       "21     0A  PDDE ESTRUTURA (ÁGUA E ESGOTAMENTO SANITÁRIO, ...\n",
       "22     0B  PDDE QUALIDADE ( ENSINO MÉDIO INOVADOR, MAIS C...\n",
       "23     A3  PDDE-EDUCAÇÃO ESPECIAL (PROGRAMA DINHEIRO DIRE...\n",
       "24     Z9  PDDE-EDUCAÇÃO INTEGRAL (PROGRAMA DINHEIRO DIRE...\n",
       "25     85  PDDE/FEFS (PROGRAMA DINHEIRO DIRETO NA ESCOLA ...\n",
       "26     96  PDDE/PDE-ESCOLA (PROGRAMA DINHEIRO DIRETO NA E...\n",
       "27     71  PDDE/PME (PROGRAMA DINHEIRO DIRETO NA ESCOLA -...\n",
       "28     15  PDDEE (PROGRAMA DINHEIRO DIRETO ESCOLA SIT. EM...\n",
       "29     72  PDDEF/PAPE (PROGRAMA DINHEIRO DIRETO NA ESCOLA...\n",
       "..    ...                                                ...\n",
       "40     06       PNSE (PROGRAMA NACIONAL DE SAUDE DO ESCOLAR)\n",
       "41     07  PNTE (PROGRAMA NACIONAL DE TRANSPORTE DO ESCOLAR)\n",
       "42     19      PRE-ESCOLAR (PROJETO DE EDUCACAO PRE-ESCOLAR)\n",
       "43     ED  PROGRAMA TERRITÓRIOS DA CIDADANIA TD (PROGRAMA...\n",
       "44     98                          PROINFANCIA (PROINFANCIA)\n",
       "45     79  PROLICENCIATURA (PROJETO DO PRO LICENCIATURA -...\n",
       "46     EF                      PRONATEC - TD (PRONATEC - TD)\n",
       "47     CJ  PRONATEC MANTENEDORAS (PRONATEC - BOLSA CURSO ...\n",
       "48     MC  PRONATEC MANTENEDORAS - CONCOMITANTE (PAGAMENT...\n",
       "49     PM  PRONATEC MEDIOTEC (TRANSF DIRETA PARA AS REDES...\n",
       "50     PI  PRONATEC PRISIONAL (PAGAMENTO DE BOLSA-FORMAÇÃ...\n",
       "51     03                   PTA (PROGRAMA DE TRABALHO ANUAL)\n",
       "52     24        PTA/ESPECIAL (PROJETO DE EDUCACAO ESPECIAL)\n",
       "53     I4              PTA/GUARDA-CHUVA (PTA - GUARDA-CHUVA)\n",
       "54     55  PTA/INFANTIL (PROJETO PARA ATENDIMENTO À EDUCA...\n",
       "55     27   PTA/OUTROS (OUTROS PROJETOS DE INTERESSE DO MEC)\n",
       "56     I7                PTA/PROFISSIONAL (PTA PROFISSIONAL)\n",
       "57     70  PTA/REESTFISICA (APOIO À REESTRUTURAÇÃO DA RED...\n",
       "58     67     PTAAÇÕESEDUC (AÇÕES EDUCATIVAS COMPLEMENTARES)\n",
       "59     83                  PTAAMBIENTAL (EDUCAÇÃO AMBIENTAL)\n",
       "60     69                  PTAESCFABRICA (ESCOLA DE FÁBRICA)\n",
       "61     61               PTAINOVEDUC (INOVAÇÕES EDUCACIONAIS)\n",
       "62     36         PTAPECAMPO (PROGRAMA DE EDUCAÇÃO DO CAMPO)\n",
       "63     64              PTAPROFAPOIO (PROFISSIONAIS DE APOIO)\n",
       "64     Z8  REESTFÍSICA  INFANTIL -CONSTRUÇÃO PROINFÂNCIA ...\n",
       "65     PZ  REESTFISICA - TD (PROG. ESP. DE RECUPERAÇÃO DA...\n",
       "66     D6  REESTFÍSICA E.INFANTIL.CONSTRUÇÃO-PROINFÂNCIA ...\n",
       "67     AH  TD - PROJOVEM - URBANO  (TD - PROJOVEM - URBANO )\n",
       "68     AM       TD -PROJOVEM - CAMPO  (TD -PROJOVEM - CAMPO)\n",
       "69     32  TRANSFERÊNCIA A ESTADO E MUNICIPIOS PBA  (TRAN...\n",
       "\n",
       "[70 rows x 2 columns]"
      ]
     },
     "execution_count": 95,
     "metadata": {},
     "output_type": "execute_result"
    }
   ],
   "source": [
    "lista_programas"
   ]
  },
  {
   "cell_type": "markdown",
   "metadata": {},
   "source": [
    "Separando os códigos do banco de dados"
   ]
  },
  {
   "cell_type": "code",
   "execution_count": 96,
   "metadata": {
    "collapsed": true
   },
   "outputs": [],
   "source": [
    "codigos = lista_programas['Código']"
   ]
  },
  {
   "cell_type": "markdown",
   "metadata": {},
   "source": [
    "Definindo o padrão da string da url da pesquisa"
   ]
  },
  {
   "cell_type": "code",
   "execution_count": 97,
   "metadata": {
    "collapsed": true
   },
   "outputs": [],
   "source": [
    "padrao_url = 'https://www.fnde.gov.br/sigefweb/index.php/extratos?ano={}&programa={}&confirmar=Confirmar'"
   ]
  },
  {
   "cell_type": "markdown",
   "metadata": {},
   "source": [
    "Criando uma lista para armazenar as urls da pesquisa"
   ]
  },
  {
   "cell_type": "code",
   "execution_count": 103,
   "metadata": {
    "collapsed": true
   },
   "outputs": [],
   "source": [
    "urls = []"
   ]
  },
  {
   "cell_type": "markdown",
   "metadata": {},
   "source": [
    "Carregando a lista com as urls a serem pesquisadas"
   ]
  },
  {
   "cell_type": "code",
   "execution_count": 99,
   "metadata": {
    "collapsed": true
   },
   "outputs": [],
   "source": [
    "for ano in reversed(anos):\n",
    "    for codigo in codigos.iteritems():\n",
    "        urls.append(padrao_url.format(ano, codigo[1]))"
   ]
  },
  {
   "cell_type": "code",
   "execution_count": 104,
   "metadata": {
    "collapsed": true
   },
   "outputs": [],
   "source": [
    "for ano in reversed(anos):\n",
    "    urls.append(padrao_url.format(ano, '86'))"
   ]
  },
  {
   "cell_type": "markdown",
   "metadata": {},
   "source": [
    "Conferindo as urls carregadas na lista"
   ]
  },
  {
   "cell_type": "code",
   "execution_count": 105,
   "metadata": {},
   "outputs": [
    {
     "data": {
      "text/plain": [
       "8"
      ]
     },
     "execution_count": 105,
     "metadata": {},
     "output_type": "execute_result"
    }
   ],
   "source": [
    "len(urls)"
   ]
  },
  {
   "cell_type": "code",
   "execution_count": 107,
   "metadata": {},
   "outputs": [
    {
     "data": {
      "text/plain": [
       "['https://www.fnde.gov.br/sigefweb/index.php/extratos?ano=2018&programa=86&confirmar=Confirmar',\n",
       " 'https://www.fnde.gov.br/sigefweb/index.php/extratos?ano=2017&programa=86&confirmar=Confirmar',\n",
       " 'https://www.fnde.gov.br/sigefweb/index.php/extratos?ano=2016&programa=86&confirmar=Confirmar',\n",
       " 'https://www.fnde.gov.br/sigefweb/index.php/extratos?ano=2015&programa=86&confirmar=Confirmar',\n",
       " 'https://www.fnde.gov.br/sigefweb/index.php/extratos?ano=2014&programa=86&confirmar=Confirmar',\n",
       " 'https://www.fnde.gov.br/sigefweb/index.php/extratos?ano=2013&programa=86&confirmar=Confirmar',\n",
       " 'https://www.fnde.gov.br/sigefweb/index.php/extratos?ano=2012&programa=86&confirmar=Confirmar',\n",
       " 'https://www.fnde.gov.br/sigefweb/index.php/extratos?ano=2011&programa=86&confirmar=Confirmar']"
      ]
     },
     "execution_count": 107,
     "metadata": {},
     "output_type": "execute_result"
    }
   ],
   "source": [
    "urls"
   ]
  },
  {
   "cell_type": "markdown",
   "metadata": {},
   "source": [
    "Criando uma lista para carregar as esferas pesquisadas em cada url"
   ]
  },
  {
   "cell_type": "code",
   "execution_count": 111,
   "metadata": {
    "collapsed": true
   },
   "outputs": [],
   "source": [
    "lista_esferas = []"
   ]
  },
  {
   "cell_type": "markdown",
   "metadata": {},
   "source": [
    "Carregando a lista de esferas a partir das urls"
   ]
  },
  {
   "cell_type": "code",
   "execution_count": 112,
   "metadata": {},
   "outputs": [],
   "source": [
    "for url in urls:\n",
    "    with urllib.request.urlopen(url, context=context) as response:\n",
    "       html = response.read().decode('ansi')\n",
    "    esferas = re.findall(r'<tr><td><a href=\\\"(.*?)\\\">ESTADUAL</a>', html)\n",
    "    lista_esferas = lista_esferas + esferas"
   ]
  },
  {
   "cell_type": "markdown",
   "metadata": {},
   "source": [
    "Conferindo a lista de esferas carregada"
   ]
  },
  {
   "cell_type": "code",
   "execution_count": 113,
   "metadata": {},
   "outputs": [
    {
     "data": {
      "text/plain": [
       "8"
      ]
     },
     "execution_count": 113,
     "metadata": {},
     "output_type": "execute_result"
    }
   ],
   "source": [
    "len(lista_esferas)"
   ]
  },
  {
   "cell_type": "code",
   "execution_count": 117,
   "metadata": {},
   "outputs": [
    {
     "data": {
      "text/plain": [
       "['/sigefweb/index.php/extratos/resultado-parcial/ano/2018/programa/86/esfera/estadual',\n",
       " '/sigefweb/index.php/extratos/resultado-parcial/ano/2017/programa/86/esfera/estadual',\n",
       " '/sigefweb/index.php/extratos/resultado-parcial/ano/2016/programa/86/esfera/estadual',\n",
       " '/sigefweb/index.php/extratos/resultado-parcial/ano/2015/programa/86/esfera/estadual',\n",
       " '/sigefweb/index.php/extratos/resultado-parcial/ano/2014/programa/86/esfera/estadual',\n",
       " '/sigefweb/index.php/extratos/resultado-parcial/ano/2013/programa/86/esfera/estadual',\n",
       " '/sigefweb/index.php/extratos/resultado-parcial/ano/2012/programa/86/esfera/estadual',\n",
       " '/sigefweb/index.php/extratos/resultado-parcial/ano/2011/programa/86/esfera/estadual']"
      ]
     },
     "execution_count": 117,
     "metadata": {},
     "output_type": "execute_result"
    }
   ],
   "source": [
    "lista_esferas"
   ]
  },
  {
   "cell_type": "markdown",
   "metadata": {},
   "source": [
    "Definindo a url do site do FNDE"
   ]
  },
  {
   "cell_type": "code",
   "execution_count": 118,
   "metadata": {
    "collapsed": true
   },
   "outputs": [],
   "source": [
    "site_fnde = 'https://www.fnde.gov.br'"
   ]
  },
  {
   "cell_type": "markdown",
   "metadata": {},
   "source": [
    "Criando as listas das urls das entidades de cada programa e das UF de cada entidade"
   ]
  },
  {
   "cell_type": "code",
   "execution_count": 119,
   "metadata": {
    "collapsed": true
   },
   "outputs": [],
   "source": [
    "lista_entidades = []"
   ]
  },
  {
   "cell_type": "code",
   "execution_count": 120,
   "metadata": {
    "collapsed": true
   },
   "outputs": [],
   "source": [
    "lista_ufs_entidades = []"
   ]
  },
  {
   "cell_type": "markdown",
   "metadata": {},
   "source": [
    "Carregando a lista de entidades de cada programa"
   ]
  },
  {
   "cell_type": "code",
   "execution_count": 121,
   "metadata": {
    "collapsed": true
   },
   "outputs": [],
   "source": [
    "for esfera in lista_esferas:\n",
    "    with urllib.request.urlopen(site_fnde + esfera, context=context) as response:\n",
    "       html = response.read().decode('ansi')\n",
    "    entidades = re.findall(r'<tr><td><a href=\\\"(.*?)\\\">', html)\n",
    "    lista_entidades = lista_entidades + entidades\n",
    "    ufs_entidades = re.findall(r'>(\\w{2})</a></td></tr>', html)\n",
    "    lista_ufs_entidades = lista_ufs_entidades + ufs_entidades"
   ]
  },
  {
   "cell_type": "markdown",
   "metadata": {},
   "source": [
    "Conferindo o tamanho da lista de entidades"
   ]
  },
  {
   "cell_type": "code",
   "execution_count": 122,
   "metadata": {},
   "outputs": [
    {
     "data": {
      "text/plain": [
       "173"
      ]
     },
     "execution_count": 122,
     "metadata": {},
     "output_type": "execute_result"
    }
   ],
   "source": [
    "len(lista_entidades)"
   ]
  },
  {
   "cell_type": "code",
   "execution_count": 123,
   "metadata": {},
   "outputs": [
    {
     "data": {
      "text/plain": [
       "173"
      ]
     },
     "execution_count": 123,
     "metadata": {},
     "output_type": "execute_result"
    }
   ],
   "source": [
    "len(lista_ufs_entidades)"
   ]
  },
  {
   "cell_type": "code",
   "execution_count": 124,
   "metadata": {
    "collapsed": true
   },
   "outputs": [],
   "source": [
    "entidades_dict = {'ENTIDADE': lista_entidades, 'UF': lista_ufs_entidades}"
   ]
  },
  {
   "cell_type": "code",
   "execution_count": 125,
   "metadata": {
    "collapsed": true
   },
   "outputs": [],
   "source": [
    "entidades_uf = pd.DataFrame.from_dict(entidades_dict)"
   ]
  },
  {
   "cell_type": "markdown",
   "metadata": {},
   "source": [
    "Criando as listas onde serão armazenadas as informações das entidades pesquisadas"
   ]
  },
  {
   "cell_type": "code",
   "execution_count": 126,
   "metadata": {
    "collapsed": true
   },
   "outputs": [],
   "source": [
    "lista_ufs = []"
   ]
  },
  {
   "cell_type": "code",
   "execution_count": 127,
   "metadata": {
    "collapsed": true
   },
   "outputs": [],
   "source": [
    "lista_cnpjs = []"
   ]
  },
  {
   "cell_type": "code",
   "execution_count": 128,
   "metadata": {
    "collapsed": true
   },
   "outputs": [],
   "source": [
    "lista_bancos = []"
   ]
  },
  {
   "cell_type": "code",
   "execution_count": 129,
   "metadata": {
    "collapsed": true
   },
   "outputs": [],
   "source": [
    "lista_agencias = []"
   ]
  },
  {
   "cell_type": "code",
   "execution_count": 130,
   "metadata": {
    "collapsed": true
   },
   "outputs": [],
   "source": [
    "lista_contas = []"
   ]
  },
  {
   "cell_type": "code",
   "execution_count": 131,
   "metadata": {
    "collapsed": true
   },
   "outputs": [],
   "source": [
    "lista_programas = []"
   ]
  },
  {
   "cell_type": "code",
   "execution_count": 132,
   "metadata": {
    "collapsed": true
   },
   "outputs": [],
   "source": [
    "lista_entidades_problema = []"
   ]
  },
  {
   "cell_type": "code",
   "execution_count": 133,
   "metadata": {
    "collapsed": true
   },
   "outputs": [],
   "source": [
    "lista_ufs_entidades_problema = []"
   ]
  },
  {
   "cell_type": "markdown",
   "metadata": {},
   "source": [
    "Carregando as listas com as informações de cada entidade. As expressões regulares foram construídas com a ferramenta disponível no site: http://www.regexlab.com/wild2regex e https://pythex.org/"
   ]
  },
  {
   "cell_type": "code",
   "execution_count": 134,
   "metadata": {
    "collapsed": true
   },
   "outputs": [],
   "source": [
    "for entidade in entidades_uf.iterrows():\n",
    "    if(len(entidade[1][0]) == 160):\n",
    "        lista_ufs = lista_ufs + [entidade[1][1]]\n",
    "        cnpjs = re.findall(r'/cnpj/((?:(?!\\?ano)(?:.|\\n))*)\\?ano', entidade[1][0])\n",
    "        lista_cnpjs = lista_cnpjs + cnpjs\n",
    "        bancos = re.findall(r'/banco/((?:(?!/agencia/)(?:.|\\n))*)/agencia/', entidade[1][0])\n",
    "        lista_bancos = lista_bancos + bancos\n",
    "        agencias = re.findall(r'/agencia/((?:(?!/contacorrente/)(?:.|\\n))*)/contacorrente/', entidade[1][0])\n",
    "        lista_agencias = lista_agencias + agencias\n",
    "        contas= re.findall(r'/contacorrente/((?:(?!/programa/)(?:.|\\n))*)/programa/', entidade[1][0])\n",
    "        lista_contas = lista_contas + contas\n",
    "        programas = re.findall(r'/programa/((?:(?!/esfera/)(?:.|\\n))*)/esfera/', entidade[1][0])\n",
    "        lista_programas = lista_programas + programas\n",
    "    else:\n",
    "        lista_entidades_problema = lista_entidades_problema + [entidade[1][0]]\n",
    "        lista_ufs_entidades_problema = lista_ufs_entidades_problema + [entidade[1][1]]"
   ]
  },
  {
   "cell_type": "markdown",
   "metadata": {},
   "source": [
    "Conferindo o conteúdo das listas das informações"
   ]
  },
  {
   "cell_type": "code",
   "execution_count": 135,
   "metadata": {},
   "outputs": [
    {
     "data": {
      "text/plain": [
       "173"
      ]
     },
     "execution_count": 135,
     "metadata": {},
     "output_type": "execute_result"
    }
   ],
   "source": [
    "len(lista_ufs)"
   ]
  },
  {
   "cell_type": "code",
   "execution_count": 136,
   "metadata": {},
   "outputs": [
    {
     "data": {
      "text/plain": [
       "173"
      ]
     },
     "execution_count": 136,
     "metadata": {},
     "output_type": "execute_result"
    }
   ],
   "source": [
    "len(lista_cnpjs)"
   ]
  },
  {
   "cell_type": "code",
   "execution_count": 137,
   "metadata": {},
   "outputs": [
    {
     "data": {
      "text/plain": [
       "173"
      ]
     },
     "execution_count": 137,
     "metadata": {},
     "output_type": "execute_result"
    }
   ],
   "source": [
    "len(lista_bancos)"
   ]
  },
  {
   "cell_type": "code",
   "execution_count": 138,
   "metadata": {},
   "outputs": [
    {
     "data": {
      "text/plain": [
       "173"
      ]
     },
     "execution_count": 138,
     "metadata": {},
     "output_type": "execute_result"
    }
   ],
   "source": [
    "len(lista_agencias)"
   ]
  },
  {
   "cell_type": "code",
   "execution_count": 139,
   "metadata": {},
   "outputs": [
    {
     "data": {
      "text/plain": [
       "173"
      ]
     },
     "execution_count": 139,
     "metadata": {},
     "output_type": "execute_result"
    }
   ],
   "source": [
    "len(lista_contas)"
   ]
  },
  {
   "cell_type": "code",
   "execution_count": 140,
   "metadata": {
    "scrolled": false
   },
   "outputs": [
    {
     "data": {
      "text/plain": [
       "173"
      ]
     },
     "execution_count": 140,
     "metadata": {},
     "output_type": "execute_result"
    }
   ],
   "source": [
    "len(lista_programas)"
   ]
  },
  {
   "cell_type": "code",
   "execution_count": 141,
   "metadata": {},
   "outputs": [
    {
     "data": {
      "text/plain": [
       "0"
      ]
     },
     "execution_count": 141,
     "metadata": {},
     "output_type": "execute_result"
    }
   ],
   "source": [
    "len(lista_entidades_problema)"
   ]
  },
  {
   "cell_type": "code",
   "execution_count": 142,
   "metadata": {},
   "outputs": [
    {
     "data": {
      "text/plain": [
       "0"
      ]
     },
     "execution_count": 142,
     "metadata": {},
     "output_type": "execute_result"
    }
   ],
   "source": [
    "len(lista_ufs_entidades_problema)"
   ]
  },
  {
   "cell_type": "code",
   "execution_count": 68,
   "metadata": {
    "collapsed": true
   },
   "outputs": [],
   "source": [
    "lista_novas_entidades = []"
   ]
  },
  {
   "cell_type": "code",
   "execution_count": null,
   "metadata": {
    "collapsed": true
   },
   "outputs": [],
   "source": [
    "for entidade in lista_entidades_problema:\n",
    "    with urllib.request.urlopen(site_fnde + entidade, context=context) as response:\n",
    "       html = response.read().decode('ansi')\n",
    "    novas_entidades = re.findall(r'<tr><td><a href=\\\"(.*?)\\\">', html)\n",
    "    lista_novas_entidades = lista_novas_entidades + novas_entidades"
   ]
  },
  {
   "cell_type": "code",
   "execution_count": null,
   "metadata": {
    "collapsed": true
   },
   "outputs": [],
   "source": [
    "for entidade on lista_novas_entidades:\n",
    "    "
   ]
  },
  {
   "cell_type": "code",
   "execution_count": null,
   "metadata": {
    "collapsed": true
   },
   "outputs": [],
   "source": []
  },
  {
   "cell_type": "markdown",
   "metadata": {},
   "source": [
    "Criando um dicionário com as informações pesquisadas"
   ]
  },
  {
   "cell_type": "code",
   "execution_count": 143,
   "metadata": {
    "collapsed": true
   },
   "outputs": [],
   "source": [
    "entidades = {'UF': lista_ufs, 'CNPJ': lista_cnpjs, 'BANCO': lista_bancos, 'AGENCIA': lista_agencias, 'CONTA': lista_contas, 'PROGRAMA': lista_programas}"
   ]
  },
  {
   "cell_type": "markdown",
   "metadata": {},
   "source": [
    "Criando um novo banco de dados a partir do dicionário entidades"
   ]
  },
  {
   "cell_type": "code",
   "execution_count": 144,
   "metadata": {
    "collapsed": true
   },
   "outputs": [],
   "source": [
    "df = pd.DataFrame.from_dict(entidades)"
   ]
  },
  {
   "cell_type": "code",
   "execution_count": 145,
   "metadata": {},
   "outputs": [
    {
     "data": {
      "text/html": [
       "<div>\n",
       "<style>\n",
       "    .dataframe thead tr:only-child th {\n",
       "        text-align: right;\n",
       "    }\n",
       "\n",
       "    .dataframe thead th {\n",
       "        text-align: left;\n",
       "    }\n",
       "\n",
       "    .dataframe tbody tr th {\n",
       "        vertical-align: top;\n",
       "    }\n",
       "</style>\n",
       "<table border=\"1\" class=\"dataframe\">\n",
       "  <thead>\n",
       "    <tr style=\"text-align: right;\">\n",
       "      <th></th>\n",
       "      <th>AGENCIA</th>\n",
       "      <th>BANCO</th>\n",
       "      <th>CNPJ</th>\n",
       "      <th>CONTA</th>\n",
       "      <th>PROGRAMA</th>\n",
       "      <th>UF</th>\n",
       "    </tr>\n",
       "  </thead>\n",
       "  <tbody>\n",
       "    <tr>\n",
       "      <th>0</th>\n",
       "      <td>1674</td>\n",
       "      <td>001</td>\n",
       "      <td>05054861000176</td>\n",
       "      <td>000010003X</td>\n",
       "      <td>86</td>\n",
       "      <td>PA</td>\n",
       "    </tr>\n",
       "    <tr>\n",
       "      <th>1</th>\n",
       "      <td>2757</td>\n",
       "      <td>001</td>\n",
       "      <td>00394585000171</td>\n",
       "      <td>000008347X</td>\n",
       "      <td>86</td>\n",
       "      <td>RO</td>\n",
       "    </tr>\n",
       "    <tr>\n",
       "      <th>2</th>\n",
       "      <td>3834</td>\n",
       "      <td>001</td>\n",
       "      <td>03507415000810</td>\n",
       "      <td>0000053953</td>\n",
       "      <td>86</td>\n",
       "      <td>MT</td>\n",
       "    </tr>\n",
       "    <tr>\n",
       "      <th>3</th>\n",
       "      <td>3563</td>\n",
       "      <td>001</td>\n",
       "      <td>04312369000190</td>\n",
       "      <td>0000072052</td>\n",
       "      <td>86</td>\n",
       "      <td>AM</td>\n",
       "    </tr>\n",
       "    <tr>\n",
       "      <th>4</th>\n",
       "      <td>0008</td>\n",
       "      <td>001</td>\n",
       "      <td>07954480000179</td>\n",
       "      <td>0000236934</td>\n",
       "      <td>86</td>\n",
       "      <td>CE</td>\n",
       "    </tr>\n",
       "  </tbody>\n",
       "</table>\n",
       "</div>"
      ],
      "text/plain": [
       "  AGENCIA BANCO            CNPJ       CONTA PROGRAMA  UF\n",
       "0    1674   001  05054861000176  000010003X       86  PA\n",
       "1    2757   001  00394585000171  000008347X       86  RO\n",
       "2    3834   001  03507415000810  0000053953       86  MT\n",
       "3    3563   001  04312369000190  0000072052       86  AM\n",
       "4    0008   001  07954480000179  0000236934       86  CE"
      ]
     },
     "execution_count": 145,
     "metadata": {},
     "output_type": "execute_result"
    }
   ],
   "source": [
    "df.head()"
   ]
  },
  {
   "cell_type": "code",
   "execution_count": 147,
   "metadata": {},
   "outputs": [],
   "source": [
    "df = df.drop_duplicates()"
   ]
  },
  {
   "cell_type": "code",
   "execution_count": 148,
   "metadata": {
    "collapsed": true
   },
   "outputs": [],
   "source": [
    "df.to_excel('estaduais.xlsx', index=False)"
   ]
  },
  {
   "cell_type": "code",
   "execution_count": 73,
   "metadata": {},
   "outputs": [
    {
     "ename": "ValueError",
     "evalue": "can not merge DataFrame with instance of type <class 'list'>",
     "output_type": "error",
     "traceback": [
      "\u001b[1;31m---------------------------------------------------------------------------\u001b[0m",
      "\u001b[1;31mValueError\u001b[0m                                Traceback (most recent call last)",
      "\u001b[1;32m<ipython-input-73-ca208c58fce8>\u001b[0m in \u001b[0;36m<module>\u001b[1;34m()\u001b[0m\n\u001b[1;32m----> 1\u001b[1;33m \u001b[0mcontas\u001b[0m \u001b[1;33m=\u001b[0m \u001b[0mdf\u001b[0m\u001b[1;33m.\u001b[0m\u001b[0mmerge\u001b[0m\u001b[1;33m(\u001b[0m\u001b[0mlista_programas\u001b[0m\u001b[1;33m,\u001b[0m \u001b[0mhow\u001b[0m\u001b[1;33m=\u001b[0m\u001b[1;34m'left'\u001b[0m\u001b[1;33m,\u001b[0m \u001b[0mleft_on\u001b[0m\u001b[1;33m=\u001b[0m\u001b[1;34m'PROGRAMA'\u001b[0m\u001b[1;33m,\u001b[0m \u001b[0mright_on\u001b[0m\u001b[1;33m=\u001b[0m\u001b[1;34m'Código'\u001b[0m\u001b[1;33m)\u001b[0m\u001b[1;33m\u001b[0m\u001b[0m\n\u001b[0m",
      "\u001b[1;32mC:\\ProgramData\\Anaconda3\\lib\\site-packages\\pandas\\core\\frame.py\u001b[0m in \u001b[0;36mmerge\u001b[1;34m(self, right, how, on, left_on, right_on, left_index, right_index, sort, suffixes, copy, indicator)\u001b[0m\n\u001b[0;32m   4720\u001b[0m                      \u001b[0mright_on\u001b[0m\u001b[1;33m=\u001b[0m\u001b[0mright_on\u001b[0m\u001b[1;33m,\u001b[0m \u001b[0mleft_index\u001b[0m\u001b[1;33m=\u001b[0m\u001b[0mleft_index\u001b[0m\u001b[1;33m,\u001b[0m\u001b[1;33m\u001b[0m\u001b[0m\n\u001b[0;32m   4721\u001b[0m                      \u001b[0mright_index\u001b[0m\u001b[1;33m=\u001b[0m\u001b[0mright_index\u001b[0m\u001b[1;33m,\u001b[0m \u001b[0msort\u001b[0m\u001b[1;33m=\u001b[0m\u001b[0msort\u001b[0m\u001b[1;33m,\u001b[0m \u001b[0msuffixes\u001b[0m\u001b[1;33m=\u001b[0m\u001b[0msuffixes\u001b[0m\u001b[1;33m,\u001b[0m\u001b[1;33m\u001b[0m\u001b[0m\n\u001b[1;32m-> 4722\u001b[1;33m                      copy=copy, indicator=indicator)\n\u001b[0m\u001b[0;32m   4723\u001b[0m \u001b[1;33m\u001b[0m\u001b[0m\n\u001b[0;32m   4724\u001b[0m     \u001b[1;32mdef\u001b[0m \u001b[0mround\u001b[0m\u001b[1;33m(\u001b[0m\u001b[0mself\u001b[0m\u001b[1;33m,\u001b[0m \u001b[0mdecimals\u001b[0m\u001b[1;33m=\u001b[0m\u001b[1;36m0\u001b[0m\u001b[1;33m,\u001b[0m \u001b[1;33m*\u001b[0m\u001b[0margs\u001b[0m\u001b[1;33m,\u001b[0m \u001b[1;33m**\u001b[0m\u001b[0mkwargs\u001b[0m\u001b[1;33m)\u001b[0m\u001b[1;33m:\u001b[0m\u001b[1;33m\u001b[0m\u001b[0m\n",
      "\u001b[1;32mC:\\ProgramData\\Anaconda3\\lib\\site-packages\\pandas\\core\\reshape\\merge.py\u001b[0m in \u001b[0;36mmerge\u001b[1;34m(left, right, how, on, left_on, right_on, left_index, right_index, sort, suffixes, copy, indicator)\u001b[0m\n\u001b[0;32m     51\u001b[0m                          \u001b[0mright_on\u001b[0m\u001b[1;33m=\u001b[0m\u001b[0mright_on\u001b[0m\u001b[1;33m,\u001b[0m \u001b[0mleft_index\u001b[0m\u001b[1;33m=\u001b[0m\u001b[0mleft_index\u001b[0m\u001b[1;33m,\u001b[0m\u001b[1;33m\u001b[0m\u001b[0m\n\u001b[0;32m     52\u001b[0m                          \u001b[0mright_index\u001b[0m\u001b[1;33m=\u001b[0m\u001b[0mright_index\u001b[0m\u001b[1;33m,\u001b[0m \u001b[0msort\u001b[0m\u001b[1;33m=\u001b[0m\u001b[0msort\u001b[0m\u001b[1;33m,\u001b[0m \u001b[0msuffixes\u001b[0m\u001b[1;33m=\u001b[0m\u001b[0msuffixes\u001b[0m\u001b[1;33m,\u001b[0m\u001b[1;33m\u001b[0m\u001b[0m\n\u001b[1;32m---> 53\u001b[1;33m                          copy=copy, indicator=indicator)\n\u001b[0m\u001b[0;32m     54\u001b[0m     \u001b[1;32mreturn\u001b[0m \u001b[0mop\u001b[0m\u001b[1;33m.\u001b[0m\u001b[0mget_result\u001b[0m\u001b[1;33m(\u001b[0m\u001b[1;33m)\u001b[0m\u001b[1;33m\u001b[0m\u001b[0m\n\u001b[0;32m     55\u001b[0m \u001b[1;33m\u001b[0m\u001b[0m\n",
      "\u001b[1;32mC:\\ProgramData\\Anaconda3\\lib\\site-packages\\pandas\\core\\reshape\\merge.py\u001b[0m in \u001b[0;36m__init__\u001b[1;34m(self, left, right, how, on, left_on, right_on, axis, left_index, right_index, sort, suffixes, copy, indicator)\u001b[0m\n\u001b[0;32m    533\u001b[0m             raise ValueError(\n\u001b[0;32m    534\u001b[0m                 \u001b[1;34m'can not merge DataFrame with instance of '\u001b[0m\u001b[1;33m\u001b[0m\u001b[0m\n\u001b[1;32m--> 535\u001b[1;33m                 'type {0}'.format(type(right)))\n\u001b[0m\u001b[0;32m    536\u001b[0m \u001b[1;33m\u001b[0m\u001b[0m\n\u001b[0;32m    537\u001b[0m         \u001b[1;32mif\u001b[0m \u001b[1;32mnot\u001b[0m \u001b[0mis_bool\u001b[0m\u001b[1;33m(\u001b[0m\u001b[0mleft_index\u001b[0m\u001b[1;33m)\u001b[0m\u001b[1;33m:\u001b[0m\u001b[1;33m\u001b[0m\u001b[0m\n",
      "\u001b[1;31mValueError\u001b[0m: can not merge DataFrame with instance of type <class 'list'>"
     ]
    }
   ],
   "source": [
    "contas = df.merge(lista_programas, how='left', left_on='PROGRAMA', right_on='Código')"
   ]
  },
  {
   "cell_type": "code",
   "execution_count": null,
   "metadata": {
    "collapsed": true
   },
   "outputs": [],
   "source": [
    "contas.drop(columns=['PROGRAMA'])"
   ]
  },
  {
   "cell_type": "code",
   "execution_count": null,
   "metadata": {
    "collapsed": true
   },
   "outputs": [],
   "source": [
    "contas['PROGRAMA']"
   ]
  },
  {
   "cell_type": "code",
   "execution_count": null,
   "metadata": {
    "collapsed": true
   },
   "outputs": [],
   "source": [
    "entidades_problema"
   ]
  },
  {
   "cell_type": "code",
   "execution_count": null,
   "metadata": {
    "collapsed": true
   },
   "outputs": [],
   "source": []
  }
 ],
 "metadata": {
  "kernelspec": {
   "display_name": "Python 3",
   "language": "python",
   "name": "python3"
  },
  "language_info": {
   "codemirror_mode": {
    "name": "ipython",
    "version": 3
   },
   "file_extension": ".py",
   "mimetype": "text/x-python",
   "name": "python",
   "nbconvert_exporter": "python",
   "pygments_lexer": "ipython3",
   "version": "3.6.3"
  }
 },
 "nbformat": 4,
 "nbformat_minor": 2
}
