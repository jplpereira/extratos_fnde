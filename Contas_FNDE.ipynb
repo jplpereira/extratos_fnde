{
 "cells": [
  {
   "cell_type": "markdown",
   "metadata": {},
   "source": [
    "# Extração de contas dos programas do FNDE"
   ]
  },
  {
   "cell_type": "markdown",
   "metadata": {},
   "source": [
    "Importando os pacotes necessários"
   ]
  },
  {
   "cell_type": "code",
   "execution_count": 1,
   "metadata": {},
   "outputs": [],
   "source": [
    "import urllib.request"
   ]
  },
  {
   "cell_type": "code",
   "execution_count": 2,
   "metadata": {},
   "outputs": [],
   "source": [
    "import re"
   ]
  },
  {
   "cell_type": "code",
   "execution_count": 3,
   "metadata": {},
   "outputs": [],
   "source": [
    "import pandas as pd"
   ]
  },
  {
   "cell_type": "code",
   "execution_count": 4,
   "metadata": {},
   "outputs": [],
   "source": [
    "import ssl"
   ]
  },
  {
   "cell_type": "markdown",
   "metadata": {},
   "source": [
    "Desabilitando a verificação do contexto"
   ]
  },
  {
   "cell_type": "code",
   "execution_count": 5,
   "metadata": {},
   "outputs": [],
   "source": [
    "context = ssl._create_unverified_context()"
   ]
  },
  {
   "cell_type": "markdown",
   "metadata": {},
   "source": [
    "Criando a lista para armazenar os anos da pesquisa"
   ]
  },
  {
   "cell_type": "code",
   "execution_count": 6,
   "metadata": {},
   "outputs": [],
   "source": [
    "anos = []"
   ]
  },
  {
   "cell_type": "markdown",
   "metadata": {},
   "source": [
    "Definindo o ano inicial da pesquisa"
   ]
  },
  {
   "cell_type": "code",
   "execution_count": 7,
   "metadata": {},
   "outputs": [],
   "source": [
    "primeiro_ano = 2018"
   ]
  },
  {
   "cell_type": "markdown",
   "metadata": {},
   "source": [
    "Definindo o ano final da pesquisa"
   ]
  },
  {
   "cell_type": "code",
   "execution_count": 8,
   "metadata": {},
   "outputs": [],
   "source": [
    "ultimo_ano = 2018"
   ]
  },
  {
   "cell_type": "markdown",
   "metadata": {},
   "source": [
    "Carregando a lista com os anos a serem pesquisados"
   ]
  },
  {
   "cell_type": "code",
   "execution_count": 9,
   "metadata": {},
   "outputs": [],
   "source": [
    "for ano in range(primeiro_ano, ultimo_ano + 1):\n",
    "    anos.append(ano)"
   ]
  },
  {
   "cell_type": "markdown",
   "metadata": {},
   "source": [
    "Importando o banco de dados com os códigos e os nomes dos programas a serem pesquisados"
   ]
  },
  {
   "cell_type": "code",
   "execution_count": 10,
   "metadata": {},
   "outputs": [],
   "source": [
    "programas = pd.read_excel('programas.xlsx')"
   ]
  },
  {
   "cell_type": "markdown",
   "metadata": {},
   "source": [
    "Separando os códigos do banco de dados"
   ]
  },
  {
   "cell_type": "code",
   "execution_count": 11,
   "metadata": {},
   "outputs": [],
   "source": [
    "codigos = programas['Código']"
   ]
  },
  {
   "cell_type": "markdown",
   "metadata": {},
   "source": [
    "Definindo o formato da string da url da pesquisa"
   ]
  },
  {
   "cell_type": "code",
   "execution_count": 12,
   "metadata": {},
   "outputs": [],
   "source": [
    "url = 'https://www.fnde.gov.br/sigefweb/index.php/extratos?ano={}&programa={}&confirmar=Confirmar'"
   ]
  },
  {
   "cell_type": "markdown",
   "metadata": {},
   "source": [
    "Criando uma lista para armazenar as urls da pesquisa"
   ]
  },
  {
   "cell_type": "code",
   "execution_count": 13,
   "metadata": {},
   "outputs": [],
   "source": [
    "urls = []"
   ]
  },
  {
   "cell_type": "markdown",
   "metadata": {},
   "source": [
    "Carregando a lista com as urls a serem pesquisadas"
   ]
  },
  {
   "cell_type": "code",
   "execution_count": 14,
   "metadata": {},
   "outputs": [],
   "source": [
    "for ano in reversed(anos):\n",
    "    for codigo in codigos.iteritems():\n",
    "        urls.append(url.format(ano, codigo[1]))"
   ]
  },
  {
   "cell_type": "markdown",
   "metadata": {},
   "source": [
    "Conferindo as urls carregadas na lista"
   ]
  },
  {
   "cell_type": "code",
   "execution_count": 15,
   "metadata": {},
   "outputs": [
    {
     "data": {
      "text/plain": [
       "['https://www.fnde.gov.br/sigefweb/index.php/extratos?ano=2018&programa=23&confirmar=Confirmar',\n",
       " 'https://www.fnde.gov.br/sigefweb/index.php/extratos?ano=2018&programa=C7&confirmar=Confirmar',\n",
       " 'https://www.fnde.gov.br/sigefweb/index.php/extratos?ano=2018&programa=52&confirmar=Confirmar',\n",
       " 'https://www.fnde.gov.br/sigefweb/index.php/extratos?ano=2018&programa=0C&confirmar=Confirmar',\n",
       " 'https://www.fnde.gov.br/sigefweb/index.php/extratos?ano=2018&programa=48&confirmar=Confirmar',\n",
       " 'https://www.fnde.gov.br/sigefweb/index.php/extratos?ano=2018&programa=50&confirmar=Confirmar',\n",
       " 'https://www.fnde.gov.br/sigefweb/index.php/extratos?ano=2018&programa=TA&confirmar=Confirmar',\n",
       " 'https://www.fnde.gov.br/sigefweb/index.php/extratos?ano=2018&programa=CV&confirmar=Confirmar',\n",
       " 'https://www.fnde.gov.br/sigefweb/index.php/extratos?ano=2018&programa=CT&confirmar=Confirmar',\n",
       " 'https://www.fnde.gov.br/sigefweb/index.php/extratos?ano=2018&programa=40&confirmar=Confirmar',\n",
       " 'https://www.fnde.gov.br/sigefweb/index.php/extratos?ano=2018&programa=TI&confirmar=Confirmar',\n",
       " 'https://www.fnde.gov.br/sigefweb/index.php/extratos?ano=2018&programa=20&confirmar=Confirmar',\n",
       " 'https://www.fnde.gov.br/sigefweb/index.php/extratos?ano=2018&programa=86&confirmar=Confirmar',\n",
       " 'https://www.fnde.gov.br/sigefweb/index.php/extratos?ano=2018&programa=17&confirmar=Confirmar',\n",
       " 'https://www.fnde.gov.br/sigefweb/index.php/extratos?ano=2018&programa=26&confirmar=Confirmar',\n",
       " 'https://www.fnde.gov.br/sigefweb/index.php/extratos?ano=2018&programa=22&confirmar=Confirmar',\n",
       " 'https://www.fnde.gov.br/sigefweb/index.php/extratos?ano=2018&programa=BW&confirmar=Confirmar',\n",
       " 'https://www.fnde.gov.br/sigefweb/index.php/extratos?ano=2018&programa=CN&confirmar=Confirmar',\n",
       " 'https://www.fnde.gov.br/sigefweb/index.php/extratos?ano=2018&programa=56&confirmar=Confirmar',\n",
       " 'https://www.fnde.gov.br/sigefweb/index.php/extratos?ano=2018&programa=CM&confirmar=Confirmar',\n",
       " 'https://www.fnde.gov.br/sigefweb/index.php/extratos?ano=2018&programa=02&confirmar=Confirmar',\n",
       " 'https://www.fnde.gov.br/sigefweb/index.php/extratos?ano=2018&programa=0A&confirmar=Confirmar',\n",
       " 'https://www.fnde.gov.br/sigefweb/index.php/extratos?ano=2018&programa=0B&confirmar=Confirmar',\n",
       " 'https://www.fnde.gov.br/sigefweb/index.php/extratos?ano=2018&programa=A3&confirmar=Confirmar',\n",
       " 'https://www.fnde.gov.br/sigefweb/index.php/extratos?ano=2018&programa=Z9&confirmar=Confirmar',\n",
       " 'https://www.fnde.gov.br/sigefweb/index.php/extratos?ano=2018&programa=85&confirmar=Confirmar',\n",
       " 'https://www.fnde.gov.br/sigefweb/index.php/extratos?ano=2018&programa=96&confirmar=Confirmar',\n",
       " 'https://www.fnde.gov.br/sigefweb/index.php/extratos?ano=2018&programa=71&confirmar=Confirmar',\n",
       " 'https://www.fnde.gov.br/sigefweb/index.php/extratos?ano=2018&programa=15&confirmar=Confirmar',\n",
       " 'https://www.fnde.gov.br/sigefweb/index.php/extratos?ano=2018&programa=72&confirmar=Confirmar',\n",
       " 'https://www.fnde.gov.br/sigefweb/index.php/extratos?ano=2018&programa=PP&confirmar=Confirmar',\n",
       " 'https://www.fnde.gov.br/sigefweb/index.php/extratos?ano=2018&programa=18&confirmar=Confirmar',\n",
       " 'https://www.fnde.gov.br/sigefweb/index.php/extratos?ano=2018&programa=08&confirmar=Confirmar',\n",
       " 'https://www.fnde.gov.br/sigefweb/index.php/extratos?ano=2018&programa=04&confirmar=Confirmar',\n",
       " 'https://www.fnde.gov.br/sigefweb/index.php/extratos?ano=2018&programa=11&confirmar=Confirmar',\n",
       " 'https://www.fnde.gov.br/sigefweb/index.php/extratos?ano=2018&programa=C9&confirmar=Confirmar',\n",
       " 'https://www.fnde.gov.br/sigefweb/index.php/extratos?ano=2018&programa=60&confirmar=Confirmar',\n",
       " 'https://www.fnde.gov.br/sigefweb/index.php/extratos?ano=2018&programa=D8&confirmar=Confirmar',\n",
       " 'https://www.fnde.gov.br/sigefweb/index.php/extratos?ano=2018&programa=16&confirmar=Confirmar',\n",
       " 'https://www.fnde.gov.br/sigefweb/index.php/extratos?ano=2018&programa=D9&confirmar=Confirmar',\n",
       " 'https://www.fnde.gov.br/sigefweb/index.php/extratos?ano=2018&programa=06&confirmar=Confirmar',\n",
       " 'https://www.fnde.gov.br/sigefweb/index.php/extratos?ano=2018&programa=07&confirmar=Confirmar',\n",
       " 'https://www.fnde.gov.br/sigefweb/index.php/extratos?ano=2018&programa=19&confirmar=Confirmar',\n",
       " 'https://www.fnde.gov.br/sigefweb/index.php/extratos?ano=2018&programa=ED&confirmar=Confirmar',\n",
       " 'https://www.fnde.gov.br/sigefweb/index.php/extratos?ano=2018&programa=98&confirmar=Confirmar',\n",
       " 'https://www.fnde.gov.br/sigefweb/index.php/extratos?ano=2018&programa=79&confirmar=Confirmar',\n",
       " 'https://www.fnde.gov.br/sigefweb/index.php/extratos?ano=2018&programa=EF&confirmar=Confirmar',\n",
       " 'https://www.fnde.gov.br/sigefweb/index.php/extratos?ano=2018&programa=CJ&confirmar=Confirmar',\n",
       " 'https://www.fnde.gov.br/sigefweb/index.php/extratos?ano=2018&programa=MC&confirmar=Confirmar',\n",
       " 'https://www.fnde.gov.br/sigefweb/index.php/extratos?ano=2018&programa=PM&confirmar=Confirmar',\n",
       " 'https://www.fnde.gov.br/sigefweb/index.php/extratos?ano=2018&programa=PI&confirmar=Confirmar',\n",
       " 'https://www.fnde.gov.br/sigefweb/index.php/extratos?ano=2018&programa=03&confirmar=Confirmar',\n",
       " 'https://www.fnde.gov.br/sigefweb/index.php/extratos?ano=2018&programa=24&confirmar=Confirmar',\n",
       " 'https://www.fnde.gov.br/sigefweb/index.php/extratos?ano=2018&programa=I4&confirmar=Confirmar',\n",
       " 'https://www.fnde.gov.br/sigefweb/index.php/extratos?ano=2018&programa=55&confirmar=Confirmar',\n",
       " 'https://www.fnde.gov.br/sigefweb/index.php/extratos?ano=2018&programa=27&confirmar=Confirmar',\n",
       " 'https://www.fnde.gov.br/sigefweb/index.php/extratos?ano=2018&programa=I7&confirmar=Confirmar',\n",
       " 'https://www.fnde.gov.br/sigefweb/index.php/extratos?ano=2018&programa=70&confirmar=Confirmar',\n",
       " 'https://www.fnde.gov.br/sigefweb/index.php/extratos?ano=2018&programa=67&confirmar=Confirmar',\n",
       " 'https://www.fnde.gov.br/sigefweb/index.php/extratos?ano=2018&programa=83&confirmar=Confirmar',\n",
       " 'https://www.fnde.gov.br/sigefweb/index.php/extratos?ano=2018&programa=69&confirmar=Confirmar',\n",
       " 'https://www.fnde.gov.br/sigefweb/index.php/extratos?ano=2018&programa=61&confirmar=Confirmar',\n",
       " 'https://www.fnde.gov.br/sigefweb/index.php/extratos?ano=2018&programa=36&confirmar=Confirmar',\n",
       " 'https://www.fnde.gov.br/sigefweb/index.php/extratos?ano=2018&programa=64&confirmar=Confirmar',\n",
       " 'https://www.fnde.gov.br/sigefweb/index.php/extratos?ano=2018&programa=Z8&confirmar=Confirmar',\n",
       " 'https://www.fnde.gov.br/sigefweb/index.php/extratos?ano=2018&programa=PZ&confirmar=Confirmar',\n",
       " 'https://www.fnde.gov.br/sigefweb/index.php/extratos?ano=2018&programa=D6&confirmar=Confirmar',\n",
       " 'https://www.fnde.gov.br/sigefweb/index.php/extratos?ano=2018&programa=AH&confirmar=Confirmar',\n",
       " 'https://www.fnde.gov.br/sigefweb/index.php/extratos?ano=2018&programa=AM&confirmar=Confirmar',\n",
       " 'https://www.fnde.gov.br/sigefweb/index.php/extratos?ano=2018&programa=32&confirmar=Confirmar']"
      ]
     },
     "execution_count": 15,
     "metadata": {},
     "output_type": "execute_result"
    }
   ],
   "source": [
    "urls"
   ]
  },
  {
   "cell_type": "markdown",
   "metadata": {},
   "source": [
    "Criando uma lista para carregar as esferas pesquisadas em cada url"
   ]
  },
  {
   "cell_type": "code",
   "execution_count": 16,
   "metadata": {},
   "outputs": [],
   "source": [
    "lista_esferas = []"
   ]
  },
  {
   "cell_type": "markdown",
   "metadata": {},
   "source": [
    "Carregando a lista de esferas a partir das urls"
   ]
  },
  {
   "cell_type": "code",
   "execution_count": 17,
   "metadata": {},
   "outputs": [],
   "source": [
    "for site in urls:\n",
    "    with urllib.request.urlopen(site, context=context) as response:\n",
    "       html = response.read().decode('ansi')\n",
    "    esferas = re.findall(r'</a></td><td><a href=\\\"(.*?)\\\">', html)\n",
    "    lista_esferas = lista_esferas + esferas"
   ]
  },
  {
   "cell_type": "markdown",
   "metadata": {},
   "source": [
    "Conferindo a lista de esferas carregada"
   ]
  },
  {
   "cell_type": "code",
   "execution_count": 18,
   "metadata": {},
   "outputs": [
    {
     "data": {
      "text/plain": [
       "['/sigefweb/index.php/extratos/resultado-parcial/ano/2018/programa/23/esfera/municipal',\n",
       " '/sigefweb/index.php/extratos/resultado-parcial/ano/2018/programa/C7/esfera/municipal',\n",
       " '/sigefweb/index.php/extratos/resultado-parcial/ano/2018/programa/C7/esfera/estadual',\n",
       " '/sigefweb/index.php/extratos/resultado-parcial/ano/2018/programa/52/esfera/municipal',\n",
       " '/sigefweb/index.php/extratos/resultado-parcial/ano/2018/programa/0C/esfera/municipal',\n",
       " '/sigefweb/index.php/extratos/resultado-parcial/ano/2018/programa/48/esfera/municipal',\n",
       " '/sigefweb/index.php/extratos/resultado-parcial/ano/2018/programa/48/esfera/estadual',\n",
       " '/sigefweb/index.php/extratos/resultado-parcial/ano/2018/programa/50/esfera/particular',\n",
       " '/sigefweb/index.php/extratos/resultado-parcial/ano/2018/programa/TA/esfera/municipal',\n",
       " '/sigefweb/index.php/extratos/resultado-parcial/ano/2018/programa/CV/esfera/municipal',\n",
       " '/sigefweb/index.php/extratos/resultado-parcial/ano/2018/programa/CT/esfera/municipal',\n",
       " '/sigefweb/index.php/extratos/resultado-parcial/ano/2018/programa/40/esfera/municipal',\n",
       " '/sigefweb/index.php/extratos/resultado-parcial/ano/2018/programa/TI/esfera/estadual',\n",
       " '/sigefweb/index.php/extratos/resultado-parcial/ano/2018/programa/20/esfera/municipal',\n",
       " '/sigefweb/index.php/extratos/resultado-parcial/ano/2018/programa/20/esfera/particular',\n",
       " '/sigefweb/index.php/extratos/resultado-parcial/ano/2018/programa/86/esfera/estadual',\n",
       " '/sigefweb/index.php/extratos/resultado-parcial/ano/2018/programa/86/esfera/municipal',\n",
       " '/sigefweb/index.php/extratos/resultado-parcial/ano/2018/programa/86/esfera/particular',\n",
       " '/sigefweb/index.php/extratos/resultado-parcial/ano/2018/programa/17/esfera/municipal',\n",
       " '/sigefweb/index.php/extratos/resultado-parcial/ano/2018/programa/26/esfera/particular',\n",
       " '/sigefweb/index.php/extratos/resultado-parcial/ano/2018/programa/22/esfera/municipal',\n",
       " '/sigefweb/index.php/extratos/resultado-parcial/ano/2018/programa/BW/esfera/estadual',\n",
       " '/sigefweb/index.php/extratos/resultado-parcial/ano/2018/programa/BW/esfera/municipal',\n",
       " '/sigefweb/index.php/extratos/resultado-parcial/ano/2018/programa/CN/esfera/estadual',\n",
       " '/sigefweb/index.php/extratos/resultado-parcial/ano/2018/programa/CN/esfera/municipal',\n",
       " '/sigefweb/index.php/extratos/resultado-parcial/ano/2018/programa/56/esfera/particular',\n",
       " '/sigefweb/index.php/extratos/resultado-parcial/ano/2018/programa/CM/esfera/municipal',\n",
       " '/sigefweb/index.php/extratos/resultado-parcial/ano/2018/programa/CM/esfera/estadual',\n",
       " '/sigefweb/index.php/extratos/resultado-parcial/ano/2018/programa/02/esfera/particular',\n",
       " '/sigefweb/index.php/extratos/resultado-parcial/ano/2018/programa/02/esfera/municipal',\n",
       " '/sigefweb/index.php/extratos/resultado-parcial/ano/2018/programa/02/esfera/estadual',\n",
       " '/sigefweb/index.php/extratos/resultado-parcial/ano/2018/programa/0A/esfera/particular',\n",
       " '/sigefweb/index.php/extratos/resultado-parcial/ano/2018/programa/0B/esfera/municipal',\n",
       " '/sigefweb/index.php/extratos/resultado-parcial/ano/2018/programa/0B/esfera/particular',\n",
       " '/sigefweb/index.php/extratos/resultado-parcial/ano/2018/programa/A3/esfera/particular',\n",
       " '/sigefweb/index.php/extratos/resultado-parcial/ano/2018/programa/Z9/esfera/particular',\n",
       " '/sigefweb/index.php/extratos/resultado-parcial/ano/2018/programa/Z9/esfera/municipal',\n",
       " '/sigefweb/index.php/extratos/resultado-parcial/ano/2018/programa/85/esfera/particular',\n",
       " '/sigefweb/index.php/extratos/resultado-parcial/ano/2018/programa/96/esfera/particular',\n",
       " '/sigefweb/index.php/extratos/resultado-parcial/ano/2018/programa/71/esfera/particular',\n",
       " '/sigefweb/index.php/extratos/resultado-parcial/ano/2018/programa/15/esfera/particular',\n",
       " '/sigefweb/index.php/extratos/resultado-parcial/ano/2018/programa/72/esfera/particular',\n",
       " '/sigefweb/index.php/extratos/resultado-parcial/ano/2018/programa/PP/esfera/estadual',\n",
       " '/sigefweb/index.php/extratos/resultado-parcial/ano/2018/programa/18/esfera/estadual',\n",
       " '/sigefweb/index.php/extratos/resultado-parcial/ano/2018/programa/18/esfera/municipal',\n",
       " '/sigefweb/index.php/extratos/resultado-parcial/ano/2018/programa/08/esfera/municipal',\n",
       " '/sigefweb/index.php/extratos/resultado-parcial/ano/2018/programa/04/esfera/municipal',\n",
       " '/sigefweb/index.php/extratos/resultado-parcial/ano/2018/programa/04/esfera/estadual',\n",
       " '/sigefweb/index.php/extratos/resultado-parcial/ano/2018/programa/11/esfera/municipal',\n",
       " '/sigefweb/index.php/extratos/resultado-parcial/ano/2018/programa/C9/esfera/municipal',\n",
       " '/sigefweb/index.php/extratos/resultado-parcial/ano/2018/programa/60/esfera/municipal',\n",
       " '/sigefweb/index.php/extratos/resultado-parcial/ano/2018/programa/D8/esfera/estadual',\n",
       " '/sigefweb/index.php/extratos/resultado-parcial/ano/2018/programa/D8/esfera/municipal',\n",
       " '/sigefweb/index.php/extratos/resultado-parcial/ano/2018/programa/16/esfera/municipal',\n",
       " '/sigefweb/index.php/extratos/resultado-parcial/ano/2018/programa/D9/esfera/municipal',\n",
       " '/sigefweb/index.php/extratos/resultado-parcial/ano/2018/programa/06/esfera/municipal',\n",
       " '/sigefweb/index.php/extratos/resultado-parcial/ano/2018/programa/07/esfera/particular',\n",
       " '/sigefweb/index.php/extratos/resultado-parcial/ano/2018/programa/07/esfera/municipal',\n",
       " '/sigefweb/index.php/extratos/resultado-parcial/ano/2018/programa/19/esfera/municipal',\n",
       " '/sigefweb/index.php/extratos/resultado-parcial/ano/2018/programa/ED/esfera/municipal',\n",
       " '/sigefweb/index.php/extratos/resultado-parcial/ano/2018/programa/98/esfera/municipal',\n",
       " '/sigefweb/index.php/extratos/resultado-parcial/ano/2018/programa/79/esfera/particular',\n",
       " '/sigefweb/index.php/extratos/resultado-parcial/ano/2018/programa/EF/esfera/estadual',\n",
       " '/sigefweb/index.php/extratos/resultado-parcial/ano/2018/programa/EF/esfera/municipal',\n",
       " '/sigefweb/index.php/extratos/resultado-parcial/ano/2018/programa/EF/esfera/particular',\n",
       " '/sigefweb/index.php/extratos/resultado-parcial/ano/2018/programa/CJ/esfera/particular',\n",
       " '/sigefweb/index.php/extratos/resultado-parcial/ano/2018/programa/MC/esfera/particular',\n",
       " '/sigefweb/index.php/extratos/resultado-parcial/ano/2018/programa/PM/esfera/municipal',\n",
       " '/sigefweb/index.php/extratos/resultado-parcial/ano/2018/programa/PM/esfera/estadual',\n",
       " '/sigefweb/index.php/extratos/resultado-parcial/ano/2018/programa/PI/esfera/estadual',\n",
       " '/sigefweb/index.php/extratos/resultado-parcial/ano/2018/programa/03/esfera/particular',\n",
       " '/sigefweb/index.php/extratos/resultado-parcial/ano/2018/programa/03/esfera/municipal',\n",
       " '/sigefweb/index.php/extratos/resultado-parcial/ano/2018/programa/03/esfera/estadual',\n",
       " '/sigefweb/index.php/extratos/resultado-parcial/ano/2018/programa/24/esfera/municipal',\n",
       " '/sigefweb/index.php/extratos/resultado-parcial/ano/2018/programa/24/esfera/particular',\n",
       " '/sigefweb/index.php/extratos/resultado-parcial/ano/2018/programa/I4/esfera/municipal',\n",
       " '/sigefweb/index.php/extratos/resultado-parcial/ano/2018/programa/I4/esfera/estadual',\n",
       " '/sigefweb/index.php/extratos/resultado-parcial/ano/2018/programa/55/esfera/municipal',\n",
       " '/sigefweb/index.php/extratos/resultado-parcial/ano/2018/programa/27/esfera/particular',\n",
       " '/sigefweb/index.php/extratos/resultado-parcial/ano/2018/programa/I7/esfera/estadual',\n",
       " '/sigefweb/index.php/extratos/resultado-parcial/ano/2018/programa/70/esfera/municipal',\n",
       " '/sigefweb/index.php/extratos/resultado-parcial/ano/2018/programa/67/esfera/particular',\n",
       " '/sigefweb/index.php/extratos/resultado-parcial/ano/2018/programa/83/esfera/particular',\n",
       " '/sigefweb/index.php/extratos/resultado-parcial/ano/2018/programa/69/esfera/municipal',\n",
       " '/sigefweb/index.php/extratos/resultado-parcial/ano/2018/programa/69/esfera/particular',\n",
       " '/sigefweb/index.php/extratos/resultado-parcial/ano/2018/programa/61/esfera/municipal',\n",
       " '/sigefweb/index.php/extratos/resultado-parcial/ano/2018/programa/36/esfera/municipal',\n",
       " '/sigefweb/index.php/extratos/resultado-parcial/ano/2018/programa/36/esfera/particular',\n",
       " '/sigefweb/index.php/extratos/resultado-parcial/ano/2018/programa/64/esfera/municipal',\n",
       " '/sigefweb/index.php/extratos/resultado-parcial/ano/2018/programa/Z8/esfera/municipal',\n",
       " '/sigefweb/index.php/extratos/resultado-parcial/ano/2018/programa/PZ/esfera/municipal',\n",
       " '/sigefweb/index.php/extratos/resultado-parcial/ano/2018/programa/D6/esfera/municipal',\n",
       " '/sigefweb/index.php/extratos/resultado-parcial/ano/2018/programa/AH/esfera/estadual',\n",
       " '/sigefweb/index.php/extratos/resultado-parcial/ano/2018/programa/AH/esfera/municipal',\n",
       " '/sigefweb/index.php/extratos/resultado-parcial/ano/2018/programa/AM/esfera/municipal',\n",
       " '/sigefweb/index.php/extratos/resultado-parcial/ano/2018/programa/AM/esfera/estadual',\n",
       " '/sigefweb/index.php/extratos/resultado-parcial/ano/2018/programa/32/esfera/municipal',\n",
       " '/sigefweb/index.php/extratos/resultado-parcial/ano/2018/programa/32/esfera/estadual']"
      ]
     },
     "execution_count": 18,
     "metadata": {},
     "output_type": "execute_result"
    }
   ],
   "source": [
    "lista_esferas"
   ]
  },
  {
   "cell_type": "markdown",
   "metadata": {},
   "source": [
    "Definindo a url do site do FNDE"
   ]
  },
  {
   "cell_type": "code",
   "execution_count": 19,
   "metadata": {},
   "outputs": [],
   "source": [
    "site_fnde = 'https://www.fnde.gov.br'"
   ]
  },
  {
   "cell_type": "markdown",
   "metadata": {},
   "source": [
    "Criando a lista das urls das entidades de cada programa"
   ]
  },
  {
   "cell_type": "code",
   "execution_count": 20,
   "metadata": {},
   "outputs": [],
   "source": [
    "lista_entidades = []"
   ]
  },
  {
   "cell_type": "markdown",
   "metadata": {},
   "source": [
    "Carregando a lista de entidades de cada programa"
   ]
  },
  {
   "cell_type": "code",
   "execution_count": 21,
   "metadata": {},
   "outputs": [],
   "source": [
    "for esfera in lista_esferas:\n",
    "    with urllib.request.urlopen(site_fnde + esfera, context=context) as response:\n",
    "       html = response.read().decode('ansi')\n",
    "    entidades = re.findall(r'<tr><td><a href=\\\"(.*?)\\\">', html)\n",
    "    lista_entidades = lista_entidades + entidades"
   ]
  },
  {
   "cell_type": "markdown",
   "metadata": {},
   "source": [
    "Criando as listas onde serão armazenadas as informações das entidades pesquisadas"
   ]
  },
  {
   "cell_type": "code",
   "execution_count": 22,
   "metadata": {},
   "outputs": [],
   "source": [
    "lista_cnpjs = []"
   ]
  },
  {
   "cell_type": "code",
   "execution_count": 23,
   "metadata": {},
   "outputs": [],
   "source": [
    "lista_razoes = []"
   ]
  },
  {
   "cell_type": "code",
   "execution_count": 24,
   "metadata": {},
   "outputs": [],
   "source": [
    "lista_bancos = []"
   ]
  },
  {
   "cell_type": "code",
   "execution_count": 25,
   "metadata": {},
   "outputs": [],
   "source": [
    "lista_contas = []"
   ]
  },
  {
   "cell_type": "code",
   "execution_count": 26,
   "metadata": {},
   "outputs": [],
   "source": [
    "lista_programas = []"
   ]
  },
  {
   "cell_type": "markdown",
   "metadata": {},
   "source": [
    "Carregando as listas com as informações de cada entidade. As expressões regulares foram construídas com a ferramenta disponível no site: http://www.regexlab.com/wild2regex"
   ]
  },
  {
   "cell_type": "code",
   "execution_count": 27,
   "metadata": {},
   "outputs": [
    {
     "ename": "RemoteDisconnected",
     "evalue": "Remote end closed connection without response",
     "output_type": "error",
     "traceback": [
      "\u001b[1;31m---------------------------------------------------------------------------\u001b[0m",
      "\u001b[1;31mRemoteDisconnected\u001b[0m                        Traceback (most recent call last)",
      "\u001b[1;32m<ipython-input-27-beb6f4f23eee>\u001b[0m in \u001b[0;36m<module>\u001b[1;34m()\u001b[0m\n\u001b[0;32m      1\u001b[0m \u001b[1;32mfor\u001b[0m \u001b[0mentidade\u001b[0m \u001b[1;32min\u001b[0m \u001b[0mlista_entidades\u001b[0m\u001b[1;33m:\u001b[0m\u001b[1;33m\u001b[0m\u001b[0m\n\u001b[1;32m----> 2\u001b[1;33m     \u001b[1;32mwith\u001b[0m \u001b[0murllib\u001b[0m\u001b[1;33m.\u001b[0m\u001b[0mrequest\u001b[0m\u001b[1;33m.\u001b[0m\u001b[0murlopen\u001b[0m\u001b[1;33m(\u001b[0m\u001b[0msite_fnde\u001b[0m \u001b[1;33m+\u001b[0m \u001b[0mentidade\u001b[0m\u001b[1;33m,\u001b[0m \u001b[0mcontext\u001b[0m\u001b[1;33m=\u001b[0m\u001b[0mcontext\u001b[0m\u001b[1;33m)\u001b[0m \u001b[1;32mas\u001b[0m \u001b[0mresponse\u001b[0m\u001b[1;33m:\u001b[0m\u001b[1;33m\u001b[0m\u001b[0m\n\u001b[0m\u001b[0;32m      3\u001b[0m         \u001b[0mhtml\u001b[0m \u001b[1;33m=\u001b[0m \u001b[0mresponse\u001b[0m\u001b[1;33m.\u001b[0m\u001b[0mread\u001b[0m\u001b[1;33m(\u001b[0m\u001b[1;33m)\u001b[0m\u001b[1;33m.\u001b[0m\u001b[0mdecode\u001b[0m\u001b[1;33m(\u001b[0m\u001b[1;34m'ansi'\u001b[0m\u001b[1;33m)\u001b[0m\u001b[1;33m\u001b[0m\u001b[0m\n\u001b[0;32m      4\u001b[0m     \u001b[0mcnpj\u001b[0m \u001b[1;33m=\u001b[0m \u001b[0mre\u001b[0m\u001b[1;33m.\u001b[0m\u001b[0mfindall\u001b[0m\u001b[1;33m(\u001b[0m\u001b[1;34mr'<th>CNPJ\\:</th>\\s+<td>((?:(?!</td>)(?:.|\\n))*)</td>'\u001b[0m\u001b[1;33m,\u001b[0m \u001b[0mhtml\u001b[0m\u001b[1;33m,\u001b[0m \u001b[0mre\u001b[0m\u001b[1;33m.\u001b[0m\u001b[0mMULTILINE\u001b[0m\u001b[1;33m)\u001b[0m\u001b[1;33m\u001b[0m\u001b[0m\n\u001b[0;32m      5\u001b[0m     \u001b[0mlista_cnpjs\u001b[0m \u001b[1;33m=\u001b[0m \u001b[0mlista_cnpjs\u001b[0m \u001b[1;33m+\u001b[0m \u001b[0mcnpj\u001b[0m\u001b[1;33m\u001b[0m\u001b[0m\n",
      "\u001b[1;32m~\\Anaconda3\\lib\\urllib\\request.py\u001b[0m in \u001b[0;36murlopen\u001b[1;34m(url, data, timeout, cafile, capath, cadefault, context)\u001b[0m\n\u001b[0;32m    221\u001b[0m     \u001b[1;32melse\u001b[0m\u001b[1;33m:\u001b[0m\u001b[1;33m\u001b[0m\u001b[0m\n\u001b[0;32m    222\u001b[0m         \u001b[0mopener\u001b[0m \u001b[1;33m=\u001b[0m \u001b[0m_opener\u001b[0m\u001b[1;33m\u001b[0m\u001b[0m\n\u001b[1;32m--> 223\u001b[1;33m     \u001b[1;32mreturn\u001b[0m \u001b[0mopener\u001b[0m\u001b[1;33m.\u001b[0m\u001b[0mopen\u001b[0m\u001b[1;33m(\u001b[0m\u001b[0murl\u001b[0m\u001b[1;33m,\u001b[0m \u001b[0mdata\u001b[0m\u001b[1;33m,\u001b[0m \u001b[0mtimeout\u001b[0m\u001b[1;33m)\u001b[0m\u001b[1;33m\u001b[0m\u001b[0m\n\u001b[0m\u001b[0;32m    224\u001b[0m \u001b[1;33m\u001b[0m\u001b[0m\n\u001b[0;32m    225\u001b[0m \u001b[1;32mdef\u001b[0m \u001b[0minstall_opener\u001b[0m\u001b[1;33m(\u001b[0m\u001b[0mopener\u001b[0m\u001b[1;33m)\u001b[0m\u001b[1;33m:\u001b[0m\u001b[1;33m\u001b[0m\u001b[0m\n",
      "\u001b[1;32m~\\Anaconda3\\lib\\urllib\\request.py\u001b[0m in \u001b[0;36mopen\u001b[1;34m(self, fullurl, data, timeout)\u001b[0m\n\u001b[0;32m    524\u001b[0m             \u001b[0mreq\u001b[0m \u001b[1;33m=\u001b[0m \u001b[0mmeth\u001b[0m\u001b[1;33m(\u001b[0m\u001b[0mreq\u001b[0m\u001b[1;33m)\u001b[0m\u001b[1;33m\u001b[0m\u001b[0m\n\u001b[0;32m    525\u001b[0m \u001b[1;33m\u001b[0m\u001b[0m\n\u001b[1;32m--> 526\u001b[1;33m         \u001b[0mresponse\u001b[0m \u001b[1;33m=\u001b[0m \u001b[0mself\u001b[0m\u001b[1;33m.\u001b[0m\u001b[0m_open\u001b[0m\u001b[1;33m(\u001b[0m\u001b[0mreq\u001b[0m\u001b[1;33m,\u001b[0m \u001b[0mdata\u001b[0m\u001b[1;33m)\u001b[0m\u001b[1;33m\u001b[0m\u001b[0m\n\u001b[0m\u001b[0;32m    527\u001b[0m \u001b[1;33m\u001b[0m\u001b[0m\n\u001b[0;32m    528\u001b[0m         \u001b[1;31m# post-process response\u001b[0m\u001b[1;33m\u001b[0m\u001b[1;33m\u001b[0m\u001b[0m\n",
      "\u001b[1;32m~\\Anaconda3\\lib\\urllib\\request.py\u001b[0m in \u001b[0;36m_open\u001b[1;34m(self, req, data)\u001b[0m\n\u001b[0;32m    542\u001b[0m         \u001b[0mprotocol\u001b[0m \u001b[1;33m=\u001b[0m \u001b[0mreq\u001b[0m\u001b[1;33m.\u001b[0m\u001b[0mtype\u001b[0m\u001b[1;33m\u001b[0m\u001b[0m\n\u001b[0;32m    543\u001b[0m         result = self._call_chain(self.handle_open, protocol, protocol +\n\u001b[1;32m--> 544\u001b[1;33m                                   '_open', req)\n\u001b[0m\u001b[0;32m    545\u001b[0m         \u001b[1;32mif\u001b[0m \u001b[0mresult\u001b[0m\u001b[1;33m:\u001b[0m\u001b[1;33m\u001b[0m\u001b[0m\n\u001b[0;32m    546\u001b[0m             \u001b[1;32mreturn\u001b[0m \u001b[0mresult\u001b[0m\u001b[1;33m\u001b[0m\u001b[0m\n",
      "\u001b[1;32m~\\Anaconda3\\lib\\urllib\\request.py\u001b[0m in \u001b[0;36m_call_chain\u001b[1;34m(self, chain, kind, meth_name, *args)\u001b[0m\n\u001b[0;32m    502\u001b[0m         \u001b[1;32mfor\u001b[0m \u001b[0mhandler\u001b[0m \u001b[1;32min\u001b[0m \u001b[0mhandlers\u001b[0m\u001b[1;33m:\u001b[0m\u001b[1;33m\u001b[0m\u001b[0m\n\u001b[0;32m    503\u001b[0m             \u001b[0mfunc\u001b[0m \u001b[1;33m=\u001b[0m \u001b[0mgetattr\u001b[0m\u001b[1;33m(\u001b[0m\u001b[0mhandler\u001b[0m\u001b[1;33m,\u001b[0m \u001b[0mmeth_name\u001b[0m\u001b[1;33m)\u001b[0m\u001b[1;33m\u001b[0m\u001b[0m\n\u001b[1;32m--> 504\u001b[1;33m             \u001b[0mresult\u001b[0m \u001b[1;33m=\u001b[0m \u001b[0mfunc\u001b[0m\u001b[1;33m(\u001b[0m\u001b[1;33m*\u001b[0m\u001b[0margs\u001b[0m\u001b[1;33m)\u001b[0m\u001b[1;33m\u001b[0m\u001b[0m\n\u001b[0m\u001b[0;32m    505\u001b[0m             \u001b[1;32mif\u001b[0m \u001b[0mresult\u001b[0m \u001b[1;32mis\u001b[0m \u001b[1;32mnot\u001b[0m \u001b[1;32mNone\u001b[0m\u001b[1;33m:\u001b[0m\u001b[1;33m\u001b[0m\u001b[0m\n\u001b[0;32m    506\u001b[0m                 \u001b[1;32mreturn\u001b[0m \u001b[0mresult\u001b[0m\u001b[1;33m\u001b[0m\u001b[0m\n",
      "\u001b[1;32m~\\Anaconda3\\lib\\urllib\\request.py\u001b[0m in \u001b[0;36mhttps_open\u001b[1;34m(self, req)\u001b[0m\n\u001b[0;32m   1359\u001b[0m         \u001b[1;32mdef\u001b[0m \u001b[0mhttps_open\u001b[0m\u001b[1;33m(\u001b[0m\u001b[0mself\u001b[0m\u001b[1;33m,\u001b[0m \u001b[0mreq\u001b[0m\u001b[1;33m)\u001b[0m\u001b[1;33m:\u001b[0m\u001b[1;33m\u001b[0m\u001b[0m\n\u001b[0;32m   1360\u001b[0m             return self.do_open(http.client.HTTPSConnection, req,\n\u001b[1;32m-> 1361\u001b[1;33m                 context=self._context, check_hostname=self._check_hostname)\n\u001b[0m\u001b[0;32m   1362\u001b[0m \u001b[1;33m\u001b[0m\u001b[0m\n\u001b[0;32m   1363\u001b[0m         \u001b[0mhttps_request\u001b[0m \u001b[1;33m=\u001b[0m \u001b[0mAbstractHTTPHandler\u001b[0m\u001b[1;33m.\u001b[0m\u001b[0mdo_request_\u001b[0m\u001b[1;33m\u001b[0m\u001b[0m\n",
      "\u001b[1;32m~\\Anaconda3\\lib\\urllib\\request.py\u001b[0m in \u001b[0;36mdo_open\u001b[1;34m(self, http_class, req, **http_conn_args)\u001b[0m\n\u001b[0;32m   1319\u001b[0m             \u001b[1;32mexcept\u001b[0m \u001b[0mOSError\u001b[0m \u001b[1;32mas\u001b[0m \u001b[0merr\u001b[0m\u001b[1;33m:\u001b[0m \u001b[1;31m# timeout error\u001b[0m\u001b[1;33m\u001b[0m\u001b[0m\n\u001b[0;32m   1320\u001b[0m                 \u001b[1;32mraise\u001b[0m \u001b[0mURLError\u001b[0m\u001b[1;33m(\u001b[0m\u001b[0merr\u001b[0m\u001b[1;33m)\u001b[0m\u001b[1;33m\u001b[0m\u001b[0m\n\u001b[1;32m-> 1321\u001b[1;33m             \u001b[0mr\u001b[0m \u001b[1;33m=\u001b[0m \u001b[0mh\u001b[0m\u001b[1;33m.\u001b[0m\u001b[0mgetresponse\u001b[0m\u001b[1;33m(\u001b[0m\u001b[1;33m)\u001b[0m\u001b[1;33m\u001b[0m\u001b[0m\n\u001b[0m\u001b[0;32m   1322\u001b[0m         \u001b[1;32mexcept\u001b[0m\u001b[1;33m:\u001b[0m\u001b[1;33m\u001b[0m\u001b[0m\n\u001b[0;32m   1323\u001b[0m             \u001b[0mh\u001b[0m\u001b[1;33m.\u001b[0m\u001b[0mclose\u001b[0m\u001b[1;33m(\u001b[0m\u001b[1;33m)\u001b[0m\u001b[1;33m\u001b[0m\u001b[0m\n",
      "\u001b[1;32m~\\Anaconda3\\lib\\http\\client.py\u001b[0m in \u001b[0;36mgetresponse\u001b[1;34m(self)\u001b[0m\n\u001b[0;32m   1329\u001b[0m         \u001b[1;32mtry\u001b[0m\u001b[1;33m:\u001b[0m\u001b[1;33m\u001b[0m\u001b[0m\n\u001b[0;32m   1330\u001b[0m             \u001b[1;32mtry\u001b[0m\u001b[1;33m:\u001b[0m\u001b[1;33m\u001b[0m\u001b[0m\n\u001b[1;32m-> 1331\u001b[1;33m                 \u001b[0mresponse\u001b[0m\u001b[1;33m.\u001b[0m\u001b[0mbegin\u001b[0m\u001b[1;33m(\u001b[0m\u001b[1;33m)\u001b[0m\u001b[1;33m\u001b[0m\u001b[0m\n\u001b[0m\u001b[0;32m   1332\u001b[0m             \u001b[1;32mexcept\u001b[0m \u001b[0mConnectionError\u001b[0m\u001b[1;33m:\u001b[0m\u001b[1;33m\u001b[0m\u001b[0m\n\u001b[0;32m   1333\u001b[0m                 \u001b[0mself\u001b[0m\u001b[1;33m.\u001b[0m\u001b[0mclose\u001b[0m\u001b[1;33m(\u001b[0m\u001b[1;33m)\u001b[0m\u001b[1;33m\u001b[0m\u001b[0m\n",
      "\u001b[1;32m~\\Anaconda3\\lib\\http\\client.py\u001b[0m in \u001b[0;36mbegin\u001b[1;34m(self)\u001b[0m\n\u001b[0;32m    295\u001b[0m         \u001b[1;31m# read until we get a non-100 response\u001b[0m\u001b[1;33m\u001b[0m\u001b[1;33m\u001b[0m\u001b[0m\n\u001b[0;32m    296\u001b[0m         \u001b[1;32mwhile\u001b[0m \u001b[1;32mTrue\u001b[0m\u001b[1;33m:\u001b[0m\u001b[1;33m\u001b[0m\u001b[0m\n\u001b[1;32m--> 297\u001b[1;33m             \u001b[0mversion\u001b[0m\u001b[1;33m,\u001b[0m \u001b[0mstatus\u001b[0m\u001b[1;33m,\u001b[0m \u001b[0mreason\u001b[0m \u001b[1;33m=\u001b[0m \u001b[0mself\u001b[0m\u001b[1;33m.\u001b[0m\u001b[0m_read_status\u001b[0m\u001b[1;33m(\u001b[0m\u001b[1;33m)\u001b[0m\u001b[1;33m\u001b[0m\u001b[0m\n\u001b[0m\u001b[0;32m    298\u001b[0m             \u001b[1;32mif\u001b[0m \u001b[0mstatus\u001b[0m \u001b[1;33m!=\u001b[0m \u001b[0mCONTINUE\u001b[0m\u001b[1;33m:\u001b[0m\u001b[1;33m\u001b[0m\u001b[0m\n\u001b[0;32m    299\u001b[0m                 \u001b[1;32mbreak\u001b[0m\u001b[1;33m\u001b[0m\u001b[0m\n",
      "\u001b[1;32m~\\Anaconda3\\lib\\http\\client.py\u001b[0m in \u001b[0;36m_read_status\u001b[1;34m(self)\u001b[0m\n\u001b[0;32m    264\u001b[0m             \u001b[1;31m# Presumably, the server closed the connection before\u001b[0m\u001b[1;33m\u001b[0m\u001b[1;33m\u001b[0m\u001b[0m\n\u001b[0;32m    265\u001b[0m             \u001b[1;31m# sending a valid response.\u001b[0m\u001b[1;33m\u001b[0m\u001b[1;33m\u001b[0m\u001b[0m\n\u001b[1;32m--> 266\u001b[1;33m             raise RemoteDisconnected(\"Remote end closed connection without\"\n\u001b[0m\u001b[0;32m    267\u001b[0m                                      \" response\")\n\u001b[0;32m    268\u001b[0m         \u001b[1;32mtry\u001b[0m\u001b[1;33m:\u001b[0m\u001b[1;33m\u001b[0m\u001b[0m\n",
      "\u001b[1;31mRemoteDisconnected\u001b[0m: Remote end closed connection without response"
     ]
    }
   ],
   "source": [
    "for entidade in lista_entidades:    \n",
    "    with urllib.request.urlopen(site_fnde + entidade, context=context) as response:\n",
    "        html = response.read().decode('ansi')\n",
    "    cnpj = re.findall(r'<th>CNPJ\\:</th>\\s+<td>((?:(?!</td>)(?:.|\\n))*)</td>', html, re.MULTILINE)\n",
    "    lista_cnpjs.append(cnpj)\n",
    "    razao = re.findall(r'<th>Razão\\s+Social\\:</th>\\s+<td>((?:(?!</td>)(?:.|\\n))*)</td>', html, re.MULTILINE)\n",
    "    lista_razoes.append(razao)\n",
    "    banco = re.findall(r'<th>Banco\\:</th>\\s+<td>((?:(?!</td>)(?:.|\\n))*)</td>', html, re.MULTILINE)\n",
    "    lista_bancos.append(banco)\n",
    "    conta = re.findall(r'<th>Conta\\s+Corrente\\:</th>\\s+<td>((?:(?!</td>)(?:.|\\n))*)</td>', html, re.MULTILINE)\n",
    "    lista_contas.append(conta)\n",
    "    programa = re.findall(r'<th>Programa\\:</th>\\s+<td>((?:(?!</td>)(?:.|\\n))*)</td>', html, re.MULTILINE)\n",
    "    lista_programas.append(programa)"
   ]
  },
  {
   "cell_type": "markdown",
   "metadata": {},
   "source": [
    "Conferindo o conteúdo das listas das informações"
   ]
  },
  {
   "cell_type": "code",
   "execution_count": 29,
   "metadata": {},
   "outputs": [
    {
     "data": {
      "text/plain": [
       "4668"
      ]
     },
     "execution_count": 29,
     "metadata": {},
     "output_type": "execute_result"
    }
   ],
   "source": [
    "len(lista_cnpjs)"
   ]
  },
  {
   "cell_type": "code",
   "execution_count": 30,
   "metadata": {},
   "outputs": [
    {
     "data": {
      "text/plain": [
       "4668"
      ]
     },
     "execution_count": 30,
     "metadata": {},
     "output_type": "execute_result"
    }
   ],
   "source": [
    "len(lista_razoes)"
   ]
  },
  {
   "cell_type": "code",
   "execution_count": 31,
   "metadata": {},
   "outputs": [
    {
     "data": {
      "text/plain": [
       "4619"
      ]
     },
     "execution_count": 31,
     "metadata": {},
     "output_type": "execute_result"
    }
   ],
   "source": [
    "len(lista_bancos)"
   ]
  },
  {
   "cell_type": "code",
   "execution_count": 32,
   "metadata": {},
   "outputs": [
    {
     "data": {
      "text/plain": [
       "4619"
      ]
     },
     "execution_count": 32,
     "metadata": {},
     "output_type": "execute_result"
    }
   ],
   "source": [
    "len(lista_contas)"
   ]
  },
  {
   "cell_type": "code",
   "execution_count": 33,
   "metadata": {},
   "outputs": [
    {
     "data": {
      "text/plain": [
       "4668"
      ]
     },
     "execution_count": 33,
     "metadata": {},
     "output_type": "execute_result"
    }
   ],
   "source": [
    "len(lista_programas)"
   ]
  },
  {
   "cell_type": "markdown",
   "metadata": {},
   "source": [
    "Criando um dicionário com as informações pesquisadas"
   ]
  },
  {
   "cell_type": "code",
   "execution_count": null,
   "metadata": {},
   "outputs": [],
   "source": [
    "entidades = ['CNPJ': lista_cnpjs, 'RAZÃO SOCIAL': lista_razoes, 'BANCO': lista_bancos, 'CONTA': lista_contas, 'PROGRAMA': lista_programas]"
   ]
  },
  {
   "cell_type": "markdown",
   "metadata": {},
   "source": [
    "Criando um novo banco de dados a partir do dicionário entidades"
   ]
  },
  {
   "cell_type": "code",
   "execution_count": null,
   "metadata": {},
   "outputs": [],
   "source": [
    "df = pd.DataFrame.from_dict(entidades)"
   ]
  }
 ],
 "metadata": {
  "kernelspec": {
   "display_name": "Python 3",
   "language": "python",
   "name": "python3"
  },
  "language_info": {
   "codemirror_mode": {
    "name": "ipython",
    "version": 3
   },
   "file_extension": ".py",
   "mimetype": "text/x-python",
   "name": "python",
   "nbconvert_exporter": "python",
   "pygments_lexer": "ipython3",
   "version": "3.6.4"
  }
 },
 "nbformat": 4,
 "nbformat_minor": 2
}
