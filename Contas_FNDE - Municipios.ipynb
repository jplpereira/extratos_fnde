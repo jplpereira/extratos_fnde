{
 "cells": [
  {
   "cell_type": "markdown",
   "metadata": {},
   "source": [
    "# Extração de contas dos programas do FNDE"
   ]
  },
  {
   "cell_type": "markdown",
   "metadata": {},
   "source": [
    "Importando os pacotes necessários"
   ]
  },
  {
   "cell_type": "code",
   "execution_count": 1,
   "metadata": {
    "collapsed": true
   },
   "outputs": [],
   "source": [
    "import urllib.request"
   ]
  },
  {
   "cell_type": "code",
   "execution_count": 2,
   "metadata": {
    "collapsed": true
   },
   "outputs": [],
   "source": [
    "import re"
   ]
  },
  {
   "cell_type": "code",
   "execution_count": 3,
   "metadata": {
    "collapsed": true
   },
   "outputs": [],
   "source": [
    "import pandas as pd"
   ]
  },
  {
   "cell_type": "code",
   "execution_count": 4,
   "metadata": {
    "collapsed": true
   },
   "outputs": [],
   "source": [
    "import ssl"
   ]
  },
  {
   "cell_type": "markdown",
   "metadata": {},
   "source": [
    "Desabilitando a verificação do contexto"
   ]
  },
  {
   "cell_type": "code",
   "execution_count": 5,
   "metadata": {
    "collapsed": true
   },
   "outputs": [],
   "source": [
    "context = ssl._create_unverified_context()"
   ]
  },
  {
   "cell_type": "markdown",
   "metadata": {},
   "source": [
    "Criando a lista para armazenar os anos da pesquisa"
   ]
  },
  {
   "cell_type": "code",
   "execution_count": 6,
   "metadata": {
    "collapsed": true
   },
   "outputs": [],
   "source": [
    "anos = []"
   ]
  },
  {
   "cell_type": "markdown",
   "metadata": {},
   "source": [
    "Definindo o ano inicial da pesquisa"
   ]
  },
  {
   "cell_type": "code",
   "execution_count": 7,
   "metadata": {
    "collapsed": true
   },
   "outputs": [],
   "source": [
    "primeiro_ano = 2018"
   ]
  },
  {
   "cell_type": "markdown",
   "metadata": {},
   "source": [
    "Definindo o ano final da pesquisa"
   ]
  },
  {
   "cell_type": "code",
   "execution_count": 8,
   "metadata": {
    "collapsed": true
   },
   "outputs": [],
   "source": [
    "ultimo_ano = 2018"
   ]
  },
  {
   "cell_type": "markdown",
   "metadata": {},
   "source": [
    "Carregando a lista com os anos a serem pesquisados"
   ]
  },
  {
   "cell_type": "code",
   "execution_count": 9,
   "metadata": {
    "collapsed": true
   },
   "outputs": [],
   "source": [
    "for ano in range(primeiro_ano, ultimo_ano + 1):\n",
    "    anos.append(ano)"
   ]
  },
  {
   "cell_type": "markdown",
   "metadata": {},
   "source": [
    "Importando o banco de dados com os códigos e os nomes dos programas a serem pesquisados"
   ]
  },
  {
   "cell_type": "code",
   "execution_count": 10,
   "metadata": {
    "collapsed": true
   },
   "outputs": [],
   "source": [
    "lista_programas = pd.read_excel('programas.xlsx')"
   ]
  },
  {
   "cell_type": "code",
   "execution_count": 11,
   "metadata": {},
   "outputs": [
    {
     "data": {
      "text/html": [
       "<div>\n",
       "<style>\n",
       "    .dataframe thead tr:only-child th {\n",
       "        text-align: right;\n",
       "    }\n",
       "\n",
       "    .dataframe thead th {\n",
       "        text-align: left;\n",
       "    }\n",
       "\n",
       "    .dataframe tbody tr th {\n",
       "        vertical-align: top;\n",
       "    }\n",
       "</style>\n",
       "<table border=\"1\" class=\"dataframe\">\n",
       "  <thead>\n",
       "    <tr style=\"text-align: right;\">\n",
       "      <th></th>\n",
       "      <th>Código</th>\n",
       "      <th>Programa</th>\n",
       "    </tr>\n",
       "  </thead>\n",
       "  <tbody>\n",
       "    <tr>\n",
       "      <th>0</th>\n",
       "      <td>23</td>\n",
       "      <td>ACELERACAO (PROJETO DE ACELERACAO DA APRENDIZA...</td>\n",
       "    </tr>\n",
       "    <tr>\n",
       "      <th>1</th>\n",
       "      <td>C7</td>\n",
       "      <td>ALIMENTAÇÃO ESCOLAR (PROG.NACIONAL DE ALIMENTA...</td>\n",
       "    </tr>\n",
       "    <tr>\n",
       "      <th>2</th>\n",
       "      <td>52</td>\n",
       "      <td>BRASIL ALFABETIZADO (PROGRAMA PARA ALFABETIZAÇ...</td>\n",
       "    </tr>\n",
       "    <tr>\n",
       "      <th>3</th>\n",
       "      <td>0C</td>\n",
       "      <td>BRASIL CARINHOSO TD (BRASIL CARINHOSO - TRANSF...</td>\n",
       "    </tr>\n",
       "    <tr>\n",
       "      <th>4</th>\n",
       "      <td>48</td>\n",
       "      <td>COMPROMISSO TODOS PELA EDUCAÇÃO-PAR/CTE (COMPR...</td>\n",
       "    </tr>\n",
       "    <tr>\n",
       "      <th>5</th>\n",
       "      <td>50</td>\n",
       "      <td>CONDIGITAIS (PROGR. DE PROD. DE CONTEÚDOS EDUC...</td>\n",
       "    </tr>\n",
       "    <tr>\n",
       "      <th>6</th>\n",
       "      <td>TA</td>\n",
       "      <td>EDUCAÇÃO INFANTIL - APOIO SUPLEMENTAR (MANUTEN...</td>\n",
       "    </tr>\n",
       "    <tr>\n",
       "      <th>7</th>\n",
       "      <td>CV</td>\n",
       "      <td>EDUCAÇÃO INFANTIL - NOVAS TURMAS (EI - NOVAS T...</td>\n",
       "    </tr>\n",
       "    <tr>\n",
       "      <th>8</th>\n",
       "      <td>CT</td>\n",
       "      <td>EDUCAÇÃO INFANTIL - NOVOS ESTABELECIMENTOS (EI...</td>\n",
       "    </tr>\n",
       "    <tr>\n",
       "      <th>9</th>\n",
       "      <td>40</td>\n",
       "      <td>EJA (PROG APOIO ESTADOS/MUN P/ EDUCAÇÃO FUNDAM...</td>\n",
       "    </tr>\n",
       "    <tr>\n",
       "      <th>10</th>\n",
       "      <td>TI</td>\n",
       "      <td>FOMENTO A ESCOLAS EM TEMPO INTEGRAL (TRANSF DI...</td>\n",
       "    </tr>\n",
       "    <tr>\n",
       "      <th>11</th>\n",
       "      <td>20</td>\n",
       "      <td>FUNDAMENTAL (PROJETO DE ENSINO FUNDAMENTAL)</td>\n",
       "    </tr>\n",
       "    <tr>\n",
       "      <th>12</th>\n",
       "      <td>86</td>\n",
       "      <td>FUNDEB ( FUNDEB)</td>\n",
       "    </tr>\n",
       "    <tr>\n",
       "      <th>13</th>\n",
       "      <td>17</td>\n",
       "      <td>FUNDEF (COMPLEMENTAÇÃO DO FUNDEF)</td>\n",
       "    </tr>\n",
       "    <tr>\n",
       "      <th>14</th>\n",
       "      <td>26</td>\n",
       "      <td>FUNDESCOLA (PROJETO DO FUNDO DE FORTALECIMENTO...</td>\n",
       "    </tr>\n",
       "    <tr>\n",
       "      <th>15</th>\n",
       "      <td>22</td>\n",
       "      <td>JOVENS E ADULTOS (PROJETO DE EDUCACAO DE JOVEN...</td>\n",
       "    </tr>\n",
       "    <tr>\n",
       "      <th>16</th>\n",
       "      <td>BW</td>\n",
       "      <td>PAC II -  PROINFÂNCIA (PROGRAMA PROINFÂNCIA - ...</td>\n",
       "    </tr>\n",
       "    <tr>\n",
       "      <th>17</th>\n",
       "      <td>CN</td>\n",
       "      <td>PAC II - QUADRAS (PROGRAMA DE CONSTRUÇÃO DE QU...</td>\n",
       "    </tr>\n",
       "    <tr>\n",
       "      <th>18</th>\n",
       "      <td>56</td>\n",
       "      <td>PAED (PROGRAMA COMPL EDUC ESPEC PESSOAS PORT D...</td>\n",
       "    </tr>\n",
       "    <tr>\n",
       "      <th>19</th>\n",
       "      <td>CM</td>\n",
       "      <td>PAR - TD (PLANO DE AÇÃO ARTICULADA  - TRANSFER...</td>\n",
       "    </tr>\n",
       "    <tr>\n",
       "      <th>20</th>\n",
       "      <td>02</td>\n",
       "      <td>PDDE (PROGRAMA DINHEIRO DIRETO NA ESCOLA )</td>\n",
       "    </tr>\n",
       "    <tr>\n",
       "      <th>21</th>\n",
       "      <td>0A</td>\n",
       "      <td>PDDE ESTRUTURA (ÁGUA E ESGOTAMENTO SANITÁRIO, ...</td>\n",
       "    </tr>\n",
       "    <tr>\n",
       "      <th>22</th>\n",
       "      <td>0B</td>\n",
       "      <td>PDDE QUALIDADE ( ENSINO MÉDIO INOVADOR, MAIS C...</td>\n",
       "    </tr>\n",
       "    <tr>\n",
       "      <th>23</th>\n",
       "      <td>A3</td>\n",
       "      <td>PDDE-EDUCAÇÃO ESPECIAL (PROGRAMA DINHEIRO DIRE...</td>\n",
       "    </tr>\n",
       "    <tr>\n",
       "      <th>24</th>\n",
       "      <td>Z9</td>\n",
       "      <td>PDDE-EDUCAÇÃO INTEGRAL (PROGRAMA DINHEIRO DIRE...</td>\n",
       "    </tr>\n",
       "    <tr>\n",
       "      <th>25</th>\n",
       "      <td>85</td>\n",
       "      <td>PDDE/FEFS (PROGRAMA DINHEIRO DIRETO NA ESCOLA ...</td>\n",
       "    </tr>\n",
       "    <tr>\n",
       "      <th>26</th>\n",
       "      <td>96</td>\n",
       "      <td>PDDE/PDE-ESCOLA (PROGRAMA DINHEIRO DIRETO NA E...</td>\n",
       "    </tr>\n",
       "    <tr>\n",
       "      <th>27</th>\n",
       "      <td>71</td>\n",
       "      <td>PDDE/PME (PROGRAMA DINHEIRO DIRETO NA ESCOLA -...</td>\n",
       "    </tr>\n",
       "    <tr>\n",
       "      <th>28</th>\n",
       "      <td>15</td>\n",
       "      <td>PDDEE (PROGRAMA DINHEIRO DIRETO ESCOLA SIT. EM...</td>\n",
       "    </tr>\n",
       "    <tr>\n",
       "      <th>29</th>\n",
       "      <td>72</td>\n",
       "      <td>PDDEF/PAPE (PROGRAMA DINHEIRO DIRETO NA ESCOLA...</td>\n",
       "    </tr>\n",
       "    <tr>\n",
       "      <th>...</th>\n",
       "      <td>...</td>\n",
       "      <td>...</td>\n",
       "    </tr>\n",
       "    <tr>\n",
       "      <th>40</th>\n",
       "      <td>06</td>\n",
       "      <td>PNSE (PROGRAMA NACIONAL DE SAUDE DO ESCOLAR)</td>\n",
       "    </tr>\n",
       "    <tr>\n",
       "      <th>41</th>\n",
       "      <td>07</td>\n",
       "      <td>PNTE (PROGRAMA NACIONAL DE TRANSPORTE DO ESCOLAR)</td>\n",
       "    </tr>\n",
       "    <tr>\n",
       "      <th>42</th>\n",
       "      <td>19</td>\n",
       "      <td>PRE-ESCOLAR (PROJETO DE EDUCACAO PRE-ESCOLAR)</td>\n",
       "    </tr>\n",
       "    <tr>\n",
       "      <th>43</th>\n",
       "      <td>ED</td>\n",
       "      <td>PROGRAMA TERRITÓRIOS DA CIDADANIA TD (PROGRAMA...</td>\n",
       "    </tr>\n",
       "    <tr>\n",
       "      <th>44</th>\n",
       "      <td>98</td>\n",
       "      <td>PROINFANCIA (PROINFANCIA)</td>\n",
       "    </tr>\n",
       "    <tr>\n",
       "      <th>45</th>\n",
       "      <td>79</td>\n",
       "      <td>PROLICENCIATURA (PROJETO DO PRO LICENCIATURA -...</td>\n",
       "    </tr>\n",
       "    <tr>\n",
       "      <th>46</th>\n",
       "      <td>EF</td>\n",
       "      <td>PRONATEC - TD (PRONATEC - TD)</td>\n",
       "    </tr>\n",
       "    <tr>\n",
       "      <th>47</th>\n",
       "      <td>CJ</td>\n",
       "      <td>PRONATEC MANTENEDORAS (PRONATEC - BOLSA CURSO ...</td>\n",
       "    </tr>\n",
       "    <tr>\n",
       "      <th>48</th>\n",
       "      <td>MC</td>\n",
       "      <td>PRONATEC MANTENEDORAS - CONCOMITANTE (PAGAMENT...</td>\n",
       "    </tr>\n",
       "    <tr>\n",
       "      <th>49</th>\n",
       "      <td>PM</td>\n",
       "      <td>PRONATEC MEDIOTEC (TRANSF DIRETA PARA AS REDES...</td>\n",
       "    </tr>\n",
       "    <tr>\n",
       "      <th>50</th>\n",
       "      <td>PI</td>\n",
       "      <td>PRONATEC PRISIONAL (PAGAMENTO DE BOLSA-FORMAÇÃ...</td>\n",
       "    </tr>\n",
       "    <tr>\n",
       "      <th>51</th>\n",
       "      <td>03</td>\n",
       "      <td>PTA (PROGRAMA DE TRABALHO ANUAL)</td>\n",
       "    </tr>\n",
       "    <tr>\n",
       "      <th>52</th>\n",
       "      <td>24</td>\n",
       "      <td>PTA/ESPECIAL (PROJETO DE EDUCACAO ESPECIAL)</td>\n",
       "    </tr>\n",
       "    <tr>\n",
       "      <th>53</th>\n",
       "      <td>I4</td>\n",
       "      <td>PTA/GUARDA-CHUVA (PTA - GUARDA-CHUVA)</td>\n",
       "    </tr>\n",
       "    <tr>\n",
       "      <th>54</th>\n",
       "      <td>55</td>\n",
       "      <td>PTA/INFANTIL (PROJETO PARA ATENDIMENTO À EDUCA...</td>\n",
       "    </tr>\n",
       "    <tr>\n",
       "      <th>55</th>\n",
       "      <td>27</td>\n",
       "      <td>PTA/OUTROS (OUTROS PROJETOS DE INTERESSE DO MEC)</td>\n",
       "    </tr>\n",
       "    <tr>\n",
       "      <th>56</th>\n",
       "      <td>I7</td>\n",
       "      <td>PTA/PROFISSIONAL (PTA PROFISSIONAL)</td>\n",
       "    </tr>\n",
       "    <tr>\n",
       "      <th>57</th>\n",
       "      <td>70</td>\n",
       "      <td>PTA/REESTFISICA (APOIO À REESTRUTURAÇÃO DA RED...</td>\n",
       "    </tr>\n",
       "    <tr>\n",
       "      <th>58</th>\n",
       "      <td>67</td>\n",
       "      <td>PTAAÇÕESEDUC (AÇÕES EDUCATIVAS COMPLEMENTARES)</td>\n",
       "    </tr>\n",
       "    <tr>\n",
       "      <th>59</th>\n",
       "      <td>83</td>\n",
       "      <td>PTAAMBIENTAL (EDUCAÇÃO AMBIENTAL)</td>\n",
       "    </tr>\n",
       "    <tr>\n",
       "      <th>60</th>\n",
       "      <td>69</td>\n",
       "      <td>PTAESCFABRICA (ESCOLA DE FÁBRICA)</td>\n",
       "    </tr>\n",
       "    <tr>\n",
       "      <th>61</th>\n",
       "      <td>61</td>\n",
       "      <td>PTAINOVEDUC (INOVAÇÕES EDUCACIONAIS)</td>\n",
       "    </tr>\n",
       "    <tr>\n",
       "      <th>62</th>\n",
       "      <td>36</td>\n",
       "      <td>PTAPECAMPO (PROGRAMA DE EDUCAÇÃO DO CAMPO)</td>\n",
       "    </tr>\n",
       "    <tr>\n",
       "      <th>63</th>\n",
       "      <td>64</td>\n",
       "      <td>PTAPROFAPOIO (PROFISSIONAIS DE APOIO)</td>\n",
       "    </tr>\n",
       "    <tr>\n",
       "      <th>64</th>\n",
       "      <td>Z8</td>\n",
       "      <td>REESTFÍSICA  INFANTIL -CONSTRUÇÃO PROINFÂNCIA ...</td>\n",
       "    </tr>\n",
       "    <tr>\n",
       "      <th>65</th>\n",
       "      <td>PZ</td>\n",
       "      <td>REESTFISICA - TD (PROG. ESP. DE RECUPERAÇÃO DA...</td>\n",
       "    </tr>\n",
       "    <tr>\n",
       "      <th>66</th>\n",
       "      <td>D6</td>\n",
       "      <td>REESTFÍSICA E.INFANTIL.CONSTRUÇÃO-PROINFÂNCIA ...</td>\n",
       "    </tr>\n",
       "    <tr>\n",
       "      <th>67</th>\n",
       "      <td>AH</td>\n",
       "      <td>TD - PROJOVEM - URBANO  (TD - PROJOVEM - URBANO )</td>\n",
       "    </tr>\n",
       "    <tr>\n",
       "      <th>68</th>\n",
       "      <td>AM</td>\n",
       "      <td>TD -PROJOVEM - CAMPO  (TD -PROJOVEM - CAMPO)</td>\n",
       "    </tr>\n",
       "    <tr>\n",
       "      <th>69</th>\n",
       "      <td>32</td>\n",
       "      <td>TRANSFERÊNCIA A ESTADO E MUNICIPIOS PBA  (TRAN...</td>\n",
       "    </tr>\n",
       "  </tbody>\n",
       "</table>\n",
       "<p>70 rows × 2 columns</p>\n",
       "</div>"
      ],
      "text/plain": [
       "   Código                                           Programa\n",
       "0      23  ACELERACAO (PROJETO DE ACELERACAO DA APRENDIZA...\n",
       "1      C7  ALIMENTAÇÃO ESCOLAR (PROG.NACIONAL DE ALIMENTA...\n",
       "2      52  BRASIL ALFABETIZADO (PROGRAMA PARA ALFABETIZAÇ...\n",
       "3      0C  BRASIL CARINHOSO TD (BRASIL CARINHOSO - TRANSF...\n",
       "4      48  COMPROMISSO TODOS PELA EDUCAÇÃO-PAR/CTE (COMPR...\n",
       "5      50  CONDIGITAIS (PROGR. DE PROD. DE CONTEÚDOS EDUC...\n",
       "6      TA  EDUCAÇÃO INFANTIL - APOIO SUPLEMENTAR (MANUTEN...\n",
       "7      CV  EDUCAÇÃO INFANTIL - NOVAS TURMAS (EI - NOVAS T...\n",
       "8      CT  EDUCAÇÃO INFANTIL - NOVOS ESTABELECIMENTOS (EI...\n",
       "9      40  EJA (PROG APOIO ESTADOS/MUN P/ EDUCAÇÃO FUNDAM...\n",
       "10     TI  FOMENTO A ESCOLAS EM TEMPO INTEGRAL (TRANSF DI...\n",
       "11     20        FUNDAMENTAL (PROJETO DE ENSINO FUNDAMENTAL)\n",
       "12     86                                   FUNDEB ( FUNDEB)\n",
       "13     17                  FUNDEF (COMPLEMENTAÇÃO DO FUNDEF)\n",
       "14     26  FUNDESCOLA (PROJETO DO FUNDO DE FORTALECIMENTO...\n",
       "15     22  JOVENS E ADULTOS (PROJETO DE EDUCACAO DE JOVEN...\n",
       "16     BW  PAC II -  PROINFÂNCIA (PROGRAMA PROINFÂNCIA - ...\n",
       "17     CN  PAC II - QUADRAS (PROGRAMA DE CONSTRUÇÃO DE QU...\n",
       "18     56  PAED (PROGRAMA COMPL EDUC ESPEC PESSOAS PORT D...\n",
       "19     CM  PAR - TD (PLANO DE AÇÃO ARTICULADA  - TRANSFER...\n",
       "20     02         PDDE (PROGRAMA DINHEIRO DIRETO NA ESCOLA )\n",
       "21     0A  PDDE ESTRUTURA (ÁGUA E ESGOTAMENTO SANITÁRIO, ...\n",
       "22     0B  PDDE QUALIDADE ( ENSINO MÉDIO INOVADOR, MAIS C...\n",
       "23     A3  PDDE-EDUCAÇÃO ESPECIAL (PROGRAMA DINHEIRO DIRE...\n",
       "24     Z9  PDDE-EDUCAÇÃO INTEGRAL (PROGRAMA DINHEIRO DIRE...\n",
       "25     85  PDDE/FEFS (PROGRAMA DINHEIRO DIRETO NA ESCOLA ...\n",
       "26     96  PDDE/PDE-ESCOLA (PROGRAMA DINHEIRO DIRETO NA E...\n",
       "27     71  PDDE/PME (PROGRAMA DINHEIRO DIRETO NA ESCOLA -...\n",
       "28     15  PDDEE (PROGRAMA DINHEIRO DIRETO ESCOLA SIT. EM...\n",
       "29     72  PDDEF/PAPE (PROGRAMA DINHEIRO DIRETO NA ESCOLA...\n",
       "..    ...                                                ...\n",
       "40     06       PNSE (PROGRAMA NACIONAL DE SAUDE DO ESCOLAR)\n",
       "41     07  PNTE (PROGRAMA NACIONAL DE TRANSPORTE DO ESCOLAR)\n",
       "42     19      PRE-ESCOLAR (PROJETO DE EDUCACAO PRE-ESCOLAR)\n",
       "43     ED  PROGRAMA TERRITÓRIOS DA CIDADANIA TD (PROGRAMA...\n",
       "44     98                          PROINFANCIA (PROINFANCIA)\n",
       "45     79  PROLICENCIATURA (PROJETO DO PRO LICENCIATURA -...\n",
       "46     EF                      PRONATEC - TD (PRONATEC - TD)\n",
       "47     CJ  PRONATEC MANTENEDORAS (PRONATEC - BOLSA CURSO ...\n",
       "48     MC  PRONATEC MANTENEDORAS - CONCOMITANTE (PAGAMENT...\n",
       "49     PM  PRONATEC MEDIOTEC (TRANSF DIRETA PARA AS REDES...\n",
       "50     PI  PRONATEC PRISIONAL (PAGAMENTO DE BOLSA-FORMAÇÃ...\n",
       "51     03                   PTA (PROGRAMA DE TRABALHO ANUAL)\n",
       "52     24        PTA/ESPECIAL (PROJETO DE EDUCACAO ESPECIAL)\n",
       "53     I4              PTA/GUARDA-CHUVA (PTA - GUARDA-CHUVA)\n",
       "54     55  PTA/INFANTIL (PROJETO PARA ATENDIMENTO À EDUCA...\n",
       "55     27   PTA/OUTROS (OUTROS PROJETOS DE INTERESSE DO MEC)\n",
       "56     I7                PTA/PROFISSIONAL (PTA PROFISSIONAL)\n",
       "57     70  PTA/REESTFISICA (APOIO À REESTRUTURAÇÃO DA RED...\n",
       "58     67     PTAAÇÕESEDUC (AÇÕES EDUCATIVAS COMPLEMENTARES)\n",
       "59     83                  PTAAMBIENTAL (EDUCAÇÃO AMBIENTAL)\n",
       "60     69                  PTAESCFABRICA (ESCOLA DE FÁBRICA)\n",
       "61     61               PTAINOVEDUC (INOVAÇÕES EDUCACIONAIS)\n",
       "62     36         PTAPECAMPO (PROGRAMA DE EDUCAÇÃO DO CAMPO)\n",
       "63     64              PTAPROFAPOIO (PROFISSIONAIS DE APOIO)\n",
       "64     Z8  REESTFÍSICA  INFANTIL -CONSTRUÇÃO PROINFÂNCIA ...\n",
       "65     PZ  REESTFISICA - TD (PROG. ESP. DE RECUPERAÇÃO DA...\n",
       "66     D6  REESTFÍSICA E.INFANTIL.CONSTRUÇÃO-PROINFÂNCIA ...\n",
       "67     AH  TD - PROJOVEM - URBANO  (TD - PROJOVEM - URBANO )\n",
       "68     AM       TD -PROJOVEM - CAMPO  (TD -PROJOVEM - CAMPO)\n",
       "69     32  TRANSFERÊNCIA A ESTADO E MUNICIPIOS PBA  (TRAN...\n",
       "\n",
       "[70 rows x 2 columns]"
      ]
     },
     "execution_count": 11,
     "metadata": {},
     "output_type": "execute_result"
    }
   ],
   "source": [
    "lista_programas"
   ]
  },
  {
   "cell_type": "markdown",
   "metadata": {},
   "source": [
    "Separando os códigos do banco de dados"
   ]
  },
  {
   "cell_type": "code",
   "execution_count": 12,
   "metadata": {
    "collapsed": true
   },
   "outputs": [],
   "source": [
    "codigos = lista_programas['Código']"
   ]
  },
  {
   "cell_type": "markdown",
   "metadata": {},
   "source": [
    "Definindo o padrão da string da url da pesquisa"
   ]
  },
  {
   "cell_type": "code",
   "execution_count": 13,
   "metadata": {
    "collapsed": true
   },
   "outputs": [],
   "source": [
    "padrao_url = 'https://www.fnde.gov.br/sigefweb/index.php/extratos?ano={}&programa={}&confirmar=Confirmar'"
   ]
  },
  {
   "cell_type": "markdown",
   "metadata": {},
   "source": [
    "Criando uma lista para armazenar as urls da pesquisa"
   ]
  },
  {
   "cell_type": "code",
   "execution_count": 14,
   "metadata": {
    "collapsed": true
   },
   "outputs": [],
   "source": [
    "urls = []"
   ]
  },
  {
   "cell_type": "markdown",
   "metadata": {},
   "source": [
    "Carregando a lista com as urls a serem pesquisadas"
   ]
  },
  {
   "cell_type": "code",
   "execution_count": 15,
   "metadata": {
    "collapsed": true
   },
   "outputs": [],
   "source": [
    "for ano in reversed(anos):\n",
    "    for codigo in codigos.iteritems():\n",
    "        urls.append(padrao_url.format(ano, codigo[1]))"
   ]
  },
  {
   "cell_type": "markdown",
   "metadata": {},
   "source": [
    "Conferindo as urls carregadas na lista"
   ]
  },
  {
   "cell_type": "code",
   "execution_count": 16,
   "metadata": {},
   "outputs": [
    {
     "data": {
      "text/plain": [
       "70"
      ]
     },
     "execution_count": 16,
     "metadata": {},
     "output_type": "execute_result"
    }
   ],
   "source": [
    "len(urls)"
   ]
  },
  {
   "cell_type": "code",
   "execution_count": 17,
   "metadata": {},
   "outputs": [
    {
     "data": {
      "text/plain": [
       "['https://www.fnde.gov.br/sigefweb/index.php/extratos?ano=2018&programa=23&confirmar=Confirmar',\n",
       " 'https://www.fnde.gov.br/sigefweb/index.php/extratos?ano=2018&programa=C7&confirmar=Confirmar',\n",
       " 'https://www.fnde.gov.br/sigefweb/index.php/extratos?ano=2018&programa=52&confirmar=Confirmar',\n",
       " 'https://www.fnde.gov.br/sigefweb/index.php/extratos?ano=2018&programa=0C&confirmar=Confirmar',\n",
       " 'https://www.fnde.gov.br/sigefweb/index.php/extratos?ano=2018&programa=48&confirmar=Confirmar',\n",
       " 'https://www.fnde.gov.br/sigefweb/index.php/extratos?ano=2018&programa=50&confirmar=Confirmar',\n",
       " 'https://www.fnde.gov.br/sigefweb/index.php/extratos?ano=2018&programa=TA&confirmar=Confirmar',\n",
       " 'https://www.fnde.gov.br/sigefweb/index.php/extratos?ano=2018&programa=CV&confirmar=Confirmar',\n",
       " 'https://www.fnde.gov.br/sigefweb/index.php/extratos?ano=2018&programa=CT&confirmar=Confirmar',\n",
       " 'https://www.fnde.gov.br/sigefweb/index.php/extratos?ano=2018&programa=40&confirmar=Confirmar',\n",
       " 'https://www.fnde.gov.br/sigefweb/index.php/extratos?ano=2018&programa=TI&confirmar=Confirmar',\n",
       " 'https://www.fnde.gov.br/sigefweb/index.php/extratos?ano=2018&programa=20&confirmar=Confirmar',\n",
       " 'https://www.fnde.gov.br/sigefweb/index.php/extratos?ano=2018&programa=86&confirmar=Confirmar',\n",
       " 'https://www.fnde.gov.br/sigefweb/index.php/extratos?ano=2018&programa=17&confirmar=Confirmar',\n",
       " 'https://www.fnde.gov.br/sigefweb/index.php/extratos?ano=2018&programa=26&confirmar=Confirmar',\n",
       " 'https://www.fnde.gov.br/sigefweb/index.php/extratos?ano=2018&programa=22&confirmar=Confirmar',\n",
       " 'https://www.fnde.gov.br/sigefweb/index.php/extratos?ano=2018&programa=BW&confirmar=Confirmar',\n",
       " 'https://www.fnde.gov.br/sigefweb/index.php/extratos?ano=2018&programa=CN&confirmar=Confirmar',\n",
       " 'https://www.fnde.gov.br/sigefweb/index.php/extratos?ano=2018&programa=56&confirmar=Confirmar',\n",
       " 'https://www.fnde.gov.br/sigefweb/index.php/extratos?ano=2018&programa=CM&confirmar=Confirmar',\n",
       " 'https://www.fnde.gov.br/sigefweb/index.php/extratos?ano=2018&programa=02&confirmar=Confirmar',\n",
       " 'https://www.fnde.gov.br/sigefweb/index.php/extratos?ano=2018&programa=0A&confirmar=Confirmar',\n",
       " 'https://www.fnde.gov.br/sigefweb/index.php/extratos?ano=2018&programa=0B&confirmar=Confirmar',\n",
       " 'https://www.fnde.gov.br/sigefweb/index.php/extratos?ano=2018&programa=A3&confirmar=Confirmar',\n",
       " 'https://www.fnde.gov.br/sigefweb/index.php/extratos?ano=2018&programa=Z9&confirmar=Confirmar',\n",
       " 'https://www.fnde.gov.br/sigefweb/index.php/extratos?ano=2018&programa=85&confirmar=Confirmar',\n",
       " 'https://www.fnde.gov.br/sigefweb/index.php/extratos?ano=2018&programa=96&confirmar=Confirmar',\n",
       " 'https://www.fnde.gov.br/sigefweb/index.php/extratos?ano=2018&programa=71&confirmar=Confirmar',\n",
       " 'https://www.fnde.gov.br/sigefweb/index.php/extratos?ano=2018&programa=15&confirmar=Confirmar',\n",
       " 'https://www.fnde.gov.br/sigefweb/index.php/extratos?ano=2018&programa=72&confirmar=Confirmar',\n",
       " 'https://www.fnde.gov.br/sigefweb/index.php/extratos?ano=2018&programa=PP&confirmar=Confirmar',\n",
       " 'https://www.fnde.gov.br/sigefweb/index.php/extratos?ano=2018&programa=18&confirmar=Confirmar',\n",
       " 'https://www.fnde.gov.br/sigefweb/index.php/extratos?ano=2018&programa=08&confirmar=Confirmar',\n",
       " 'https://www.fnde.gov.br/sigefweb/index.php/extratos?ano=2018&programa=04&confirmar=Confirmar',\n",
       " 'https://www.fnde.gov.br/sigefweb/index.php/extratos?ano=2018&programa=11&confirmar=Confirmar',\n",
       " 'https://www.fnde.gov.br/sigefweb/index.php/extratos?ano=2018&programa=C9&confirmar=Confirmar',\n",
       " 'https://www.fnde.gov.br/sigefweb/index.php/extratos?ano=2018&programa=60&confirmar=Confirmar',\n",
       " 'https://www.fnde.gov.br/sigefweb/index.php/extratos?ano=2018&programa=D8&confirmar=Confirmar',\n",
       " 'https://www.fnde.gov.br/sigefweb/index.php/extratos?ano=2018&programa=16&confirmar=Confirmar',\n",
       " 'https://www.fnde.gov.br/sigefweb/index.php/extratos?ano=2018&programa=D9&confirmar=Confirmar',\n",
       " 'https://www.fnde.gov.br/sigefweb/index.php/extratos?ano=2018&programa=06&confirmar=Confirmar',\n",
       " 'https://www.fnde.gov.br/sigefweb/index.php/extratos?ano=2018&programa=07&confirmar=Confirmar',\n",
       " 'https://www.fnde.gov.br/sigefweb/index.php/extratos?ano=2018&programa=19&confirmar=Confirmar',\n",
       " 'https://www.fnde.gov.br/sigefweb/index.php/extratos?ano=2018&programa=ED&confirmar=Confirmar',\n",
       " 'https://www.fnde.gov.br/sigefweb/index.php/extratos?ano=2018&programa=98&confirmar=Confirmar',\n",
       " 'https://www.fnde.gov.br/sigefweb/index.php/extratos?ano=2018&programa=79&confirmar=Confirmar',\n",
       " 'https://www.fnde.gov.br/sigefweb/index.php/extratos?ano=2018&programa=EF&confirmar=Confirmar',\n",
       " 'https://www.fnde.gov.br/sigefweb/index.php/extratos?ano=2018&programa=CJ&confirmar=Confirmar',\n",
       " 'https://www.fnde.gov.br/sigefweb/index.php/extratos?ano=2018&programa=MC&confirmar=Confirmar',\n",
       " 'https://www.fnde.gov.br/sigefweb/index.php/extratos?ano=2018&programa=PM&confirmar=Confirmar',\n",
       " 'https://www.fnde.gov.br/sigefweb/index.php/extratos?ano=2018&programa=PI&confirmar=Confirmar',\n",
       " 'https://www.fnde.gov.br/sigefweb/index.php/extratos?ano=2018&programa=03&confirmar=Confirmar',\n",
       " 'https://www.fnde.gov.br/sigefweb/index.php/extratos?ano=2018&programa=24&confirmar=Confirmar',\n",
       " 'https://www.fnde.gov.br/sigefweb/index.php/extratos?ano=2018&programa=I4&confirmar=Confirmar',\n",
       " 'https://www.fnde.gov.br/sigefweb/index.php/extratos?ano=2018&programa=55&confirmar=Confirmar',\n",
       " 'https://www.fnde.gov.br/sigefweb/index.php/extratos?ano=2018&programa=27&confirmar=Confirmar',\n",
       " 'https://www.fnde.gov.br/sigefweb/index.php/extratos?ano=2018&programa=I7&confirmar=Confirmar',\n",
       " 'https://www.fnde.gov.br/sigefweb/index.php/extratos?ano=2018&programa=70&confirmar=Confirmar',\n",
       " 'https://www.fnde.gov.br/sigefweb/index.php/extratos?ano=2018&programa=67&confirmar=Confirmar',\n",
       " 'https://www.fnde.gov.br/sigefweb/index.php/extratos?ano=2018&programa=83&confirmar=Confirmar',\n",
       " 'https://www.fnde.gov.br/sigefweb/index.php/extratos?ano=2018&programa=69&confirmar=Confirmar',\n",
       " 'https://www.fnde.gov.br/sigefweb/index.php/extratos?ano=2018&programa=61&confirmar=Confirmar',\n",
       " 'https://www.fnde.gov.br/sigefweb/index.php/extratos?ano=2018&programa=36&confirmar=Confirmar',\n",
       " 'https://www.fnde.gov.br/sigefweb/index.php/extratos?ano=2018&programa=64&confirmar=Confirmar',\n",
       " 'https://www.fnde.gov.br/sigefweb/index.php/extratos?ano=2018&programa=Z8&confirmar=Confirmar',\n",
       " 'https://www.fnde.gov.br/sigefweb/index.php/extratos?ano=2018&programa=PZ&confirmar=Confirmar',\n",
       " 'https://www.fnde.gov.br/sigefweb/index.php/extratos?ano=2018&programa=D6&confirmar=Confirmar',\n",
       " 'https://www.fnde.gov.br/sigefweb/index.php/extratos?ano=2018&programa=AH&confirmar=Confirmar',\n",
       " 'https://www.fnde.gov.br/sigefweb/index.php/extratos?ano=2018&programa=AM&confirmar=Confirmar',\n",
       " 'https://www.fnde.gov.br/sigefweb/index.php/extratos?ano=2018&programa=32&confirmar=Confirmar']"
      ]
     },
     "execution_count": 17,
     "metadata": {},
     "output_type": "execute_result"
    }
   ],
   "source": [
    "urls"
   ]
  },
  {
   "cell_type": "markdown",
   "metadata": {},
   "source": [
    "Criando uma lista para carregar as esferas pesquisadas em cada url"
   ]
  },
  {
   "cell_type": "code",
   "execution_count": 18,
   "metadata": {
    "collapsed": true
   },
   "outputs": [],
   "source": [
    "lista_esferas = []"
   ]
  },
  {
   "cell_type": "markdown",
   "metadata": {},
   "source": [
    "Carregando a lista de esferas a partir das urls"
   ]
  },
  {
   "cell_type": "code",
   "execution_count": 19,
   "metadata": {},
   "outputs": [],
   "source": [
    "for url in urls:\n",
    "    with urllib.request.urlopen(url, context=context) as response:\n",
    "       html = response.read().decode('ansi')\n",
    "    esferas = re.findall(r'<tr><td><a href=\\\"(.*?)\\\">MUNICIPAL</a>', html)\n",
    "    lista_esferas = lista_esferas + esferas"
   ]
  },
  {
   "cell_type": "markdown",
   "metadata": {},
   "source": [
    "Conferindo a lista de esferas carregada"
   ]
  },
  {
   "cell_type": "code",
   "execution_count": 20,
   "metadata": {},
   "outputs": [
    {
     "data": {
      "text/plain": [
       "50"
      ]
     },
     "execution_count": 20,
     "metadata": {},
     "output_type": "execute_result"
    }
   ],
   "source": [
    "len(lista_esferas)"
   ]
  },
  {
   "cell_type": "code",
   "execution_count": 21,
   "metadata": {},
   "outputs": [
    {
     "data": {
      "text/plain": [
       "['/sigefweb/index.php/extratos/resultado-parcial/ano/2018/programa/23/esfera/municipal',\n",
       " '/sigefweb/index.php/extratos/resultado-parcial/ano/2018/programa/C7/esfera/municipal',\n",
       " '/sigefweb/index.php/extratos/resultado-parcial/ano/2018/programa/52/esfera/municipal',\n",
       " '/sigefweb/index.php/extratos/resultado-parcial/ano/2018/programa/0C/esfera/municipal',\n",
       " '/sigefweb/index.php/extratos/resultado-parcial/ano/2018/programa/48/esfera/municipal',\n",
       " '/sigefweb/index.php/extratos/resultado-parcial/ano/2018/programa/TA/esfera/municipal',\n",
       " '/sigefweb/index.php/extratos/resultado-parcial/ano/2018/programa/CV/esfera/municipal',\n",
       " '/sigefweb/index.php/extratos/resultado-parcial/ano/2018/programa/CT/esfera/municipal',\n",
       " '/sigefweb/index.php/extratos/resultado-parcial/ano/2018/programa/40/esfera/municipal',\n",
       " '/sigefweb/index.php/extratos/resultado-parcial/ano/2018/programa/20/esfera/municipal',\n",
       " '/sigefweb/index.php/extratos/resultado-parcial/ano/2018/programa/86/esfera/municipal',\n",
       " '/sigefweb/index.php/extratos/resultado-parcial/ano/2018/programa/17/esfera/municipal',\n",
       " '/sigefweb/index.php/extratos/resultado-parcial/ano/2018/programa/22/esfera/municipal',\n",
       " '/sigefweb/index.php/extratos/resultado-parcial/ano/2018/programa/BW/esfera/municipal',\n",
       " '/sigefweb/index.php/extratos/resultado-parcial/ano/2018/programa/CN/esfera/municipal',\n",
       " '/sigefweb/index.php/extratos/resultado-parcial/ano/2018/programa/CM/esfera/municipal',\n",
       " '/sigefweb/index.php/extratos/resultado-parcial/ano/2018/programa/02/esfera/municipal',\n",
       " '/sigefweb/index.php/extratos/resultado-parcial/ano/2018/programa/0B/esfera/municipal',\n",
       " '/sigefweb/index.php/extratos/resultado-parcial/ano/2018/programa/Z9/esfera/municipal',\n",
       " '/sigefweb/index.php/extratos/resultado-parcial/ano/2018/programa/18/esfera/municipal',\n",
       " '/sigefweb/index.php/extratos/resultado-parcial/ano/2018/programa/08/esfera/municipal',\n",
       " '/sigefweb/index.php/extratos/resultado-parcial/ano/2018/programa/04/esfera/municipal',\n",
       " '/sigefweb/index.php/extratos/resultado-parcial/ano/2018/programa/11/esfera/municipal',\n",
       " '/sigefweb/index.php/extratos/resultado-parcial/ano/2018/programa/C9/esfera/municipal',\n",
       " '/sigefweb/index.php/extratos/resultado-parcial/ano/2018/programa/60/esfera/municipal',\n",
       " '/sigefweb/index.php/extratos/resultado-parcial/ano/2018/programa/D8/esfera/municipal',\n",
       " '/sigefweb/index.php/extratos/resultado-parcial/ano/2018/programa/16/esfera/municipal',\n",
       " '/sigefweb/index.php/extratos/resultado-parcial/ano/2018/programa/D9/esfera/municipal',\n",
       " '/sigefweb/index.php/extratos/resultado-parcial/ano/2018/programa/06/esfera/municipal',\n",
       " '/sigefweb/index.php/extratos/resultado-parcial/ano/2018/programa/07/esfera/municipal',\n",
       " '/sigefweb/index.php/extratos/resultado-parcial/ano/2018/programa/19/esfera/municipal',\n",
       " '/sigefweb/index.php/extratos/resultado-parcial/ano/2018/programa/ED/esfera/municipal',\n",
       " '/sigefweb/index.php/extratos/resultado-parcial/ano/2018/programa/98/esfera/municipal',\n",
       " '/sigefweb/index.php/extratos/resultado-parcial/ano/2018/programa/EF/esfera/municipal',\n",
       " '/sigefweb/index.php/extratos/resultado-parcial/ano/2018/programa/PM/esfera/municipal',\n",
       " '/sigefweb/index.php/extratos/resultado-parcial/ano/2018/programa/03/esfera/municipal',\n",
       " '/sigefweb/index.php/extratos/resultado-parcial/ano/2018/programa/24/esfera/municipal',\n",
       " '/sigefweb/index.php/extratos/resultado-parcial/ano/2018/programa/I4/esfera/municipal',\n",
       " '/sigefweb/index.php/extratos/resultado-parcial/ano/2018/programa/55/esfera/municipal',\n",
       " '/sigefweb/index.php/extratos/resultado-parcial/ano/2018/programa/70/esfera/municipal',\n",
       " '/sigefweb/index.php/extratos/resultado-parcial/ano/2018/programa/69/esfera/municipal',\n",
       " '/sigefweb/index.php/extratos/resultado-parcial/ano/2018/programa/61/esfera/municipal',\n",
       " '/sigefweb/index.php/extratos/resultado-parcial/ano/2018/programa/36/esfera/municipal',\n",
       " '/sigefweb/index.php/extratos/resultado-parcial/ano/2018/programa/64/esfera/municipal',\n",
       " '/sigefweb/index.php/extratos/resultado-parcial/ano/2018/programa/Z8/esfera/municipal',\n",
       " '/sigefweb/index.php/extratos/resultado-parcial/ano/2018/programa/PZ/esfera/municipal',\n",
       " '/sigefweb/index.php/extratos/resultado-parcial/ano/2018/programa/D6/esfera/municipal',\n",
       " '/sigefweb/index.php/extratos/resultado-parcial/ano/2018/programa/AH/esfera/municipal',\n",
       " '/sigefweb/index.php/extratos/resultado-parcial/ano/2018/programa/AM/esfera/municipal',\n",
       " '/sigefweb/index.php/extratos/resultado-parcial/ano/2018/programa/32/esfera/municipal']"
      ]
     },
     "execution_count": 21,
     "metadata": {},
     "output_type": "execute_result"
    }
   ],
   "source": [
    "lista_esferas"
   ]
  },
  {
   "cell_type": "markdown",
   "metadata": {},
   "source": [
    "Definindo a url do site do FNDE"
   ]
  },
  {
   "cell_type": "code",
   "execution_count": 22,
   "metadata": {
    "collapsed": true
   },
   "outputs": [],
   "source": [
    "site_fnde = 'https://www.fnde.gov.br'"
   ]
  },
  {
   "cell_type": "markdown",
   "metadata": {},
   "source": [
    "Criando as listas das urls das entidades de cada programa e das UF de cada entidade"
   ]
  },
  {
   "cell_type": "code",
   "execution_count": 26,
   "metadata": {
    "collapsed": true
   },
   "outputs": [],
   "source": [
    "lista_entidades = []"
   ]
  },
  {
   "cell_type": "code",
   "execution_count": 27,
   "metadata": {
    "collapsed": true
   },
   "outputs": [],
   "source": [
    "lista_ufs_entidades = []"
   ]
  },
  {
   "cell_type": "markdown",
   "metadata": {},
   "source": [
    "Carregando a lista de entidades de cada programa"
   ]
  },
  {
   "cell_type": "code",
   "execution_count": 28,
   "metadata": {},
   "outputs": [],
   "source": [
    "for esfera in lista_esferas:\n",
    "    with urllib.request.urlopen(site_fnde + esfera, context=context) as response:\n",
    "       html = response.read().decode('ansi')\n",
    "    entidades = re.findall(r'<tr><td><a href=\\\"(.*?)\\\">', html)\n",
    "    lista_entidades = lista_entidades + entidades\n",
    "    ufs_entidades = re.findall(r'>(\\w{2})</a></td></tr>', html)\n",
    "    lista_ufs_entidades = lista_ufs_entidades + ufs_entidades"
   ]
  },
  {
   "cell_type": "markdown",
   "metadata": {},
   "source": [
    "Conferindo o tamanho da lista de entidades"
   ]
  },
  {
   "cell_type": "code",
   "execution_count": 29,
   "metadata": {},
   "outputs": [
    {
     "data": {
      "text/plain": [
       "24594"
      ]
     },
     "execution_count": 29,
     "metadata": {},
     "output_type": "execute_result"
    }
   ],
   "source": [
    "len(lista_entidades)"
   ]
  },
  {
   "cell_type": "code",
   "execution_count": 30,
   "metadata": {},
   "outputs": [
    {
     "data": {
      "text/plain": [
       "24594"
      ]
     },
     "execution_count": 30,
     "metadata": {},
     "output_type": "execute_result"
    }
   ],
   "source": [
    "len(lista_ufs_entidades)"
   ]
  },
  {
   "cell_type": "code",
   "execution_count": 31,
   "metadata": {
    "collapsed": true
   },
   "outputs": [],
   "source": [
    "entidades_dict = {'ENTIDADE': lista_entidades, 'UF': lista_ufs_entidades}"
   ]
  },
  {
   "cell_type": "code",
   "execution_count": 32,
   "metadata": {
    "collapsed": true
   },
   "outputs": [],
   "source": [
    "entidades_uf = pd.DataFrame.from_dict(entidades_dict)"
   ]
  },
  {
   "cell_type": "markdown",
   "metadata": {},
   "source": [
    "Criando as listas onde serão armazenadas as informações das entidades pesquisadas"
   ]
  },
  {
   "cell_type": "code",
   "execution_count": 33,
   "metadata": {
    "collapsed": true
   },
   "outputs": [],
   "source": [
    "lista_ufs = []"
   ]
  },
  {
   "cell_type": "code",
   "execution_count": 34,
   "metadata": {
    "collapsed": true
   },
   "outputs": [],
   "source": [
    "lista_cnpjs = []"
   ]
  },
  {
   "cell_type": "code",
   "execution_count": 35,
   "metadata": {
    "collapsed": true
   },
   "outputs": [],
   "source": [
    "lista_bancos = []"
   ]
  },
  {
   "cell_type": "code",
   "execution_count": 36,
   "metadata": {
    "collapsed": true
   },
   "outputs": [],
   "source": [
    "lista_agencias = []"
   ]
  },
  {
   "cell_type": "code",
   "execution_count": 37,
   "metadata": {
    "collapsed": true
   },
   "outputs": [],
   "source": [
    "lista_contas = []"
   ]
  },
  {
   "cell_type": "code",
   "execution_count": 38,
   "metadata": {
    "collapsed": true
   },
   "outputs": [],
   "source": [
    "lista_programas = []"
   ]
  },
  {
   "cell_type": "code",
   "execution_count": 39,
   "metadata": {
    "collapsed": true
   },
   "outputs": [],
   "source": [
    "lista_entidades_problema = []"
   ]
  },
  {
   "cell_type": "code",
   "execution_count": 40,
   "metadata": {
    "collapsed": true
   },
   "outputs": [],
   "source": [
    "lista_ufs_entidades_problema = []"
   ]
  },
  {
   "cell_type": "markdown",
   "metadata": {},
   "source": [
    "Carregando as listas com as informações de cada entidade. As expressões regulares foram construídas com a ferramenta disponível no site: http://www.regexlab.com/wild2regex e https://pythex.org/"
   ]
  },
  {
   "cell_type": "code",
   "execution_count": 41,
   "metadata": {
    "collapsed": true
   },
   "outputs": [],
   "source": [
    "for entidade in entidades_uf.iterrows():\n",
    "    if(len(entidade[1][0]) == 161):\n",
    "        lista_ufs = lista_ufs + [entidade[1][1]]\n",
    "        cnpjs = re.findall(r'/cnpj/((?:(?!\\?ano)(?:.|\\n))*)\\?ano', entidade[1][0])\n",
    "        lista_cnpjs = lista_cnpjs + cnpjs\n",
    "        bancos = re.findall(r'/banco/((?:(?!/agencia/)(?:.|\\n))*)/agencia/', entidade[1][0])\n",
    "        lista_bancos = lista_bancos + bancos\n",
    "        agencias = re.findall(r'/agencia/((?:(?!/contacorrente/)(?:.|\\n))*)/contacorrente/', entidade[1][0])\n",
    "        lista_agencias = lista_agencias + agencias\n",
    "        contas= re.findall(r'/contacorrente/((?:(?!/programa/)(?:.|\\n))*)/programa/', entidade[1][0])\n",
    "        lista_contas = lista_contas + contas\n",
    "        programas = re.findall(r'/programa/((?:(?!/esfera/)(?:.|\\n))*)/esfera/', entidade[1][0])\n",
    "        lista_programas = lista_programas + programas\n",
    "    else:\n",
    "        lista_entidades_problema = lista_entidades_problema + [entidade[1][0]]\n",
    "        lista_ufs_entidades_problema = lista_ufs_entidades_problema + [entidade[1][1]]"
   ]
  },
  {
   "cell_type": "markdown",
   "metadata": {},
   "source": [
    "Conferindo o conteúdo das listas das informações"
   ]
  },
  {
   "cell_type": "code",
   "execution_count": 42,
   "metadata": {},
   "outputs": [
    {
     "data": {
      "text/plain": [
       "22903"
      ]
     },
     "execution_count": 42,
     "metadata": {},
     "output_type": "execute_result"
    }
   ],
   "source": [
    "len(lista_ufs)"
   ]
  },
  {
   "cell_type": "code",
   "execution_count": 43,
   "metadata": {},
   "outputs": [
    {
     "data": {
      "text/plain": [
       "22903"
      ]
     },
     "execution_count": 43,
     "metadata": {},
     "output_type": "execute_result"
    }
   ],
   "source": [
    "len(lista_cnpjs)"
   ]
  },
  {
   "cell_type": "code",
   "execution_count": 44,
   "metadata": {},
   "outputs": [
    {
     "data": {
      "text/plain": [
       "22903"
      ]
     },
     "execution_count": 44,
     "metadata": {},
     "output_type": "execute_result"
    }
   ],
   "source": [
    "len(lista_bancos)"
   ]
  },
  {
   "cell_type": "code",
   "execution_count": 45,
   "metadata": {},
   "outputs": [
    {
     "data": {
      "text/plain": [
       "22903"
      ]
     },
     "execution_count": 45,
     "metadata": {},
     "output_type": "execute_result"
    }
   ],
   "source": [
    "len(lista_agencias)"
   ]
  },
  {
   "cell_type": "code",
   "execution_count": 46,
   "metadata": {},
   "outputs": [
    {
     "data": {
      "text/plain": [
       "22903"
      ]
     },
     "execution_count": 46,
     "metadata": {},
     "output_type": "execute_result"
    }
   ],
   "source": [
    "len(lista_contas)"
   ]
  },
  {
   "cell_type": "code",
   "execution_count": 47,
   "metadata": {
    "scrolled": false
   },
   "outputs": [
    {
     "data": {
      "text/plain": [
       "22903"
      ]
     },
     "execution_count": 47,
     "metadata": {},
     "output_type": "execute_result"
    }
   ],
   "source": [
    "len(lista_programas)"
   ]
  },
  {
   "cell_type": "code",
   "execution_count": 48,
   "metadata": {},
   "outputs": [
    {
     "data": {
      "text/plain": [
       "1691"
      ]
     },
     "execution_count": 48,
     "metadata": {},
     "output_type": "execute_result"
    }
   ],
   "source": [
    "len(lista_entidades_problema)"
   ]
  },
  {
   "cell_type": "code",
   "execution_count": 49,
   "metadata": {},
   "outputs": [
    {
     "data": {
      "text/plain": [
       "1691"
      ]
     },
     "execution_count": 49,
     "metadata": {},
     "output_type": "execute_result"
    }
   ],
   "source": [
    "len(lista_ufs_entidades_problema)"
   ]
  },
  {
   "cell_type": "markdown",
   "metadata": {},
   "source": [
    "Criando um dicionário com as informações pesquisadas"
   ]
  },
  {
   "cell_type": "code",
   "execution_count": 50,
   "metadata": {
    "collapsed": true
   },
   "outputs": [],
   "source": [
    "entidades = {'UF': lista_ufs, 'CNPJ': lista_cnpjs, 'BANCO': lista_bancos, 'AGENCIA': lista_agencias, 'CONTA': lista_contas, 'PROGRAMA': lista_programas}"
   ]
  },
  {
   "cell_type": "code",
   "execution_count": 51,
   "metadata": {
    "collapsed": true
   },
   "outputs": [],
   "source": [
    "entidades_problema = {'UF': lista_ufs_entidades_problema, 'ENTIDADE': lista_entidades_problema}"
   ]
  },
  {
   "cell_type": "markdown",
   "metadata": {},
   "source": [
    "Criando um novo banco de dados a partir do dicionário entidades"
   ]
  },
  {
   "cell_type": "code",
   "execution_count": 52,
   "metadata": {
    "collapsed": true
   },
   "outputs": [],
   "source": [
    "banco_entidades = pd.DataFrame.from_dict(entidades)"
   ]
  },
  {
   "cell_type": "code",
   "execution_count": 53,
   "metadata": {
    "collapsed": true
   },
   "outputs": [],
   "source": [
    "banco_entidades_problema = pd.DataFrame.from_dict(entidades_problema)"
   ]
  },
  {
   "cell_type": "code",
   "execution_count": 54,
   "metadata": {},
   "outputs": [
    {
     "data": {
      "text/html": [
       "<div>\n",
       "<style>\n",
       "    .dataframe thead tr:only-child th {\n",
       "        text-align: right;\n",
       "    }\n",
       "\n",
       "    .dataframe thead th {\n",
       "        text-align: left;\n",
       "    }\n",
       "\n",
       "    .dataframe tbody tr th {\n",
       "        vertical-align: top;\n",
       "    }\n",
       "</style>\n",
       "<table border=\"1\" class=\"dataframe\">\n",
       "  <thead>\n",
       "    <tr style=\"text-align: right;\">\n",
       "      <th></th>\n",
       "      <th>AGENCIA</th>\n",
       "      <th>BANCO</th>\n",
       "      <th>CNPJ</th>\n",
       "      <th>CONTA</th>\n",
       "      <th>PROGRAMA</th>\n",
       "      <th>UF</th>\n",
       "    </tr>\n",
       "  </thead>\n",
       "  <tbody>\n",
       "    <tr>\n",
       "      <th>0</th>\n",
       "      <td>2555</td>\n",
       "      <td>001</td>\n",
       "      <td>06003891000116</td>\n",
       "      <td>0000061093</td>\n",
       "      <td>23</td>\n",
       "      <td>MA</td>\n",
       "    </tr>\n",
       "    <tr>\n",
       "      <th>1</th>\n",
       "      <td>3053</td>\n",
       "      <td>001</td>\n",
       "      <td>04628418000107</td>\n",
       "      <td>0000368946</td>\n",
       "      <td>C7</td>\n",
       "      <td>AM</td>\n",
       "    </tr>\n",
       "    <tr>\n",
       "      <th>2</th>\n",
       "      <td>1314</td>\n",
       "      <td>001</td>\n",
       "      <td>06101117000148</td>\n",
       "      <td>0000106283</td>\n",
       "      <td>C7</td>\n",
       "      <td>MA</td>\n",
       "    </tr>\n",
       "    <tr>\n",
       "      <th>3</th>\n",
       "      <td>0151</td>\n",
       "      <td>001</td>\n",
       "      <td>08882730000175</td>\n",
       "      <td>0000343420</td>\n",
       "      <td>C7</td>\n",
       "      <td>PB</td>\n",
       "    </tr>\n",
       "    <tr>\n",
       "      <th>4</th>\n",
       "      <td>0099</td>\n",
       "      <td>001</td>\n",
       "      <td>08923997000163</td>\n",
       "      <td>0000196118</td>\n",
       "      <td>C7</td>\n",
       "      <td>PB</td>\n",
       "    </tr>\n",
       "  </tbody>\n",
       "</table>\n",
       "</div>"
      ],
      "text/plain": [
       "  AGENCIA BANCO            CNPJ       CONTA PROGRAMA  UF\n",
       "0    2555   001  06003891000116  0000061093       23  MA\n",
       "1    3053   001  04628418000107  0000368946       C7  AM\n",
       "2    1314   001  06101117000148  0000106283       C7  MA\n",
       "3    0151   001  08882730000175  0000343420       C7  PB\n",
       "4    0099   001  08923997000163  0000196118       C7  PB"
      ]
     },
     "execution_count": 54,
     "metadata": {},
     "output_type": "execute_result"
    }
   ],
   "source": [
    "banco_entidades.head()"
   ]
  },
  {
   "cell_type": "code",
   "execution_count": 55,
   "metadata": {},
   "outputs": [
    {
     "data": {
      "text/html": [
       "<div>\n",
       "<style>\n",
       "    .dataframe thead tr:only-child th {\n",
       "        text-align: right;\n",
       "    }\n",
       "\n",
       "    .dataframe thead th {\n",
       "        text-align: left;\n",
       "    }\n",
       "\n",
       "    .dataframe tbody tr th {\n",
       "        vertical-align: top;\n",
       "    }\n",
       "</style>\n",
       "<table border=\"1\" class=\"dataframe\">\n",
       "  <thead>\n",
       "    <tr style=\"text-align: right;\">\n",
       "      <th></th>\n",
       "      <th>ENTIDADE</th>\n",
       "      <th>UF</th>\n",
       "    </tr>\n",
       "  </thead>\n",
       "  <tbody>\n",
       "    <tr>\n",
       "      <th>0</th>\n",
       "      <td>/sigefweb/index.php/extratos/resultado-contas/...</td>\n",
       "      <td>PA</td>\n",
       "    </tr>\n",
       "    <tr>\n",
       "      <th>1</th>\n",
       "      <td>/sigefweb/index.php/extratos/resultado-contas/...</td>\n",
       "      <td>MT</td>\n",
       "    </tr>\n",
       "    <tr>\n",
       "      <th>2</th>\n",
       "      <td>/sigefweb/index.php/extratos/resultado-contas/...</td>\n",
       "      <td>PA</td>\n",
       "    </tr>\n",
       "    <tr>\n",
       "      <th>3</th>\n",
       "      <td>/sigefweb/index.php/extratos/resultado-contas/...</td>\n",
       "      <td>BA</td>\n",
       "    </tr>\n",
       "    <tr>\n",
       "      <th>4</th>\n",
       "      <td>/sigefweb/index.php/extratos/resultado-contas/...</td>\n",
       "      <td>PB</td>\n",
       "    </tr>\n",
       "  </tbody>\n",
       "</table>\n",
       "</div>"
      ],
      "text/plain": [
       "                                            ENTIDADE  UF\n",
       "0  /sigefweb/index.php/extratos/resultado-contas/...  PA\n",
       "1  /sigefweb/index.php/extratos/resultado-contas/...  MT\n",
       "2  /sigefweb/index.php/extratos/resultado-contas/...  PA\n",
       "3  /sigefweb/index.php/extratos/resultado-contas/...  BA\n",
       "4  /sigefweb/index.php/extratos/resultado-contas/...  PB"
      ]
     },
     "execution_count": 55,
     "metadata": {},
     "output_type": "execute_result"
    }
   ],
   "source": [
    "banco_entidades_problema.head()"
   ]
  },
  {
   "cell_type": "code",
   "execution_count": 56,
   "metadata": {
    "collapsed": true
   },
   "outputs": [],
   "source": [
    "banco_entidades = banco_entidades.drop_duplicates()"
   ]
  },
  {
   "cell_type": "code",
   "execution_count": 57,
   "metadata": {
    "collapsed": true
   },
   "outputs": [],
   "source": [
    "banco_entidades_problema = banco_entidades_problema.drop_duplicates()"
   ]
  },
  {
   "cell_type": "code",
   "execution_count": 58,
   "metadata": {
    "collapsed": true
   },
   "outputs": [],
   "source": [
    "banco_entidades.to_excel('municipais.xlsx', index=False)"
   ]
  },
  {
   "cell_type": "code",
   "execution_count": null,
   "metadata": {
    "collapsed": true
   },
   "outputs": [],
   "source": [
    "banco_entidades_problema.to_excel('municipais_problema.xlsx', index=False)"
   ]
  },
  {
   "cell_type": "code",
   "execution_count": null,
   "metadata": {
    "collapsed": true
   },
   "outputs": [],
   "source": [
    "contas = banco_entidades.merge(lista_programas, how='left', left_on='PROGRAMA', right_on='Código')"
   ]
  },
  {
   "cell_type": "code",
   "execution_count": null,
   "metadata": {
    "collapsed": true
   },
   "outputs": [],
   "source": [
    "contas.drop(columns=['PROGRAMA'])"
   ]
  },
  {
   "cell_type": "code",
   "execution_count": null,
   "metadata": {
    "collapsed": true
   },
   "outputs": [],
   "source": [
    "contas['PROGRAMA']"
   ]
  },
  {
   "cell_type": "code",
   "execution_count": null,
   "metadata": {
    "collapsed": true
   },
   "outputs": [],
   "source": [
    "entidades_problema"
   ]
  },
  {
   "cell_type": "code",
   "execution_count": null,
   "metadata": {
    "collapsed": true
   },
   "outputs": [],
   "source": []
  }
 ],
 "metadata": {
  "kernelspec": {
   "display_name": "Python 3",
   "language": "python",
   "name": "python3"
  },
  "language_info": {
   "codemirror_mode": {
    "name": "ipython",
    "version": 3
   },
   "file_extension": ".py",
   "mimetype": "text/x-python",
   "name": "python",
   "nbconvert_exporter": "python",
   "pygments_lexer": "ipython3",
   "version": "3.6.3"
  }
 },
 "nbformat": 4,
 "nbformat_minor": 2
}
